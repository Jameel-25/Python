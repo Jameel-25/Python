{
 "cells": [
  {
   "cell_type": "markdown",
   "id": "06df7e6e-a718-480c-9173-e3cbf2afeced",
   "metadata": {},
   "source": [
    "### Dictionary Methods"
   ]
  },
  {
   "cell_type": "code",
   "execution_count": 12,
   "id": "ae59fa60-31f3-47f2-9041-d3a6e2427d85",
   "metadata": {},
   "outputs": [],
   "source": [
    "jameel_info = {'name':'Jameel','age':26,'city':'Hyderabad','Experience':12}"
   ]
  },
  {
   "cell_type": "code",
   "execution_count": 14,
   "id": "df97f77d-565c-4852-89d6-71142aff82e3",
   "metadata": {},
   "outputs": [
    {
     "data": {
      "text/plain": [
       "dict_keys(['name', 'age', 'city', 'Experience'])"
      ]
     },
     "execution_count": 14,
     "metadata": {},
     "output_type": "execute_result"
    }
   ],
   "source": [
    "jameel_info.keys()"
   ]
  },
  {
   "cell_type": "code",
   "execution_count": 16,
   "id": "cc0ed8d4-ccfa-42a8-b0b6-e18059a791fa",
   "metadata": {},
   "outputs": [
    {
     "data": {
      "text/plain": [
       "dict_values(['Jameel', 26, 'Hyderabad', 12])"
      ]
     },
     "execution_count": 16,
     "metadata": {},
     "output_type": "execute_result"
    }
   ],
   "source": [
    "jameel_info.values()"
   ]
  },
  {
   "cell_type": "code",
   "execution_count": 18,
   "id": "163595da-11fb-4221-ae66-d410e223b620",
   "metadata": {},
   "outputs": [
    {
     "ename": "TypeError",
     "evalue": "pop expected at least 1 argument, got 0",
     "output_type": "error",
     "traceback": [
      "\u001b[1;31m---------------------------------------------------------------------------\u001b[0m",
      "\u001b[1;31mTypeError\u001b[0m                                 Traceback (most recent call last)",
      "Cell \u001b[1;32mIn[18], line 1\u001b[0m\n\u001b[1;32m----> 1\u001b[0m jameel_info\u001b[38;5;241m.\u001b[39mpop()\n",
      "\u001b[1;31mTypeError\u001b[0m: pop expected at least 1 argument, got 0"
     ]
    }
   ],
   "source": [
    "jameel_info.pop()"
   ]
  },
  {
   "cell_type": "code",
   "execution_count": 34,
   "id": "fedf7ae5-89cd-493c-95d9-18086f712fcb",
   "metadata": {},
   "outputs": [
    {
     "data": {
      "text/plain": [
       "12"
      ]
     },
     "execution_count": 34,
     "metadata": {},
     "output_type": "execute_result"
    }
   ],
   "source": [
    "jameel_info.pop('Experience') # Remove the specified elements in the command"
   ]
  },
  {
   "cell_type": "code",
   "execution_count": 36,
   "id": "f29ef06e-d009-4c3e-8b6c-35e8afebca29",
   "metadata": {},
   "outputs": [
    {
     "data": {
      "text/plain": [
       "{'name': 'Jameel', 'age': 26, 'city': 'Hyderabad'}"
      ]
     },
     "execution_count": 36,
     "metadata": {},
     "output_type": "execute_result"
    }
   ],
   "source": [
    "jameel_info"
   ]
  },
  {
   "cell_type": "code",
   "execution_count": 38,
   "id": "c9f0151f-499c-433e-b545-9ff9bf89075a",
   "metadata": {},
   "outputs": [],
   "source": [
    "jameel_info['Experience']=12"
   ]
  },
  {
   "cell_type": "code",
   "execution_count": 26,
   "id": "bf8cdf4f-4ca4-4673-93b4-d6c15771d93e",
   "metadata": {},
   "outputs": [
    {
     "data": {
      "text/plain": [
       "{'name': 'Jameel', 'age': 26, 'city': 'Hyderabad', 'Experience': 12}"
      ]
     },
     "execution_count": 26,
     "metadata": {},
     "output_type": "execute_result"
    }
   ],
   "source": [
    "jameel_info"
   ]
  },
  {
   "cell_type": "code",
   "execution_count": 40,
   "id": "7e5cd3f8-0acd-4775-b2b7-91b9663ea40e",
   "metadata": {},
   "outputs": [
    {
     "data": {
      "text/plain": [
       "dict_values(['Jameel', 26, 'Hyderabad', 12])"
      ]
     },
     "execution_count": 40,
     "metadata": {},
     "output_type": "execute_result"
    }
   ],
   "source": [
    "jameel_info.values()"
   ]
  },
  {
   "cell_type": "code",
   "execution_count": 30,
   "id": "c73768e7-f26b-4121-931a-a609e8dc7a75",
   "metadata": {},
   "outputs": [
    {
     "data": {
      "text/plain": [
       "dict_keys(['name', 'age', 'city', 'Experience'])"
      ]
     },
     "execution_count": 30,
     "metadata": {},
     "output_type": "execute_result"
    }
   ],
   "source": [
    "jameel_info.keys()"
   ]
  },
  {
   "cell_type": "code",
   "execution_count": 42,
   "id": "3a85a93b-dadf-4c92-8f61-9115676c81a8",
   "metadata": {},
   "outputs": [
    {
     "data": {
      "text/plain": [
       "dict_items([('name', 'Jameel'), ('age', 26), ('city', 'Hyderabad'), ('Experience', 12)])"
      ]
     },
     "execution_count": 42,
     "metadata": {},
     "output_type": "execute_result"
    }
   ],
   "source": [
    "jameel_info.items() # Displays all key value pairs"
   ]
  },
  {
   "cell_type": "code",
   "execution_count": 44,
   "id": "48bb7819-ed69-4fd0-af57-0c80caa22c64",
   "metadata": {},
   "outputs": [],
   "source": [
    "jameel_info.update({'Experience': 14})"
   ]
  },
  {
   "cell_type": "code",
   "execution_count": 46,
   "id": "a639c789-b8e0-465c-9260-accc226dc99f",
   "metadata": {},
   "outputs": [
    {
     "data": {
      "text/plain": [
       "{'name': 'Jameel', 'age': 26, 'city': 'Hyderabad', 'Experience': 14}"
      ]
     },
     "execution_count": 46,
     "metadata": {},
     "output_type": "execute_result"
    }
   ],
   "source": [
    "jameel_info"
   ]
  },
  {
   "cell_type": "code",
   "execution_count": 48,
   "id": "af8cd17f-7440-4ec6-9954-148203903b54",
   "metadata": {},
   "outputs": [],
   "source": [
    "copyy=jameel_info.copy()"
   ]
  },
  {
   "cell_type": "code",
   "execution_count": 50,
   "id": "5f53bc15-4e7c-4be5-a369-8fa5c850e0c3",
   "metadata": {},
   "outputs": [
    {
     "data": {
      "text/plain": [
       "{'name': 'Jameel', 'age': 26, 'city': 'Hyderabad', 'Experience': 14}"
      ]
     },
     "execution_count": 50,
     "metadata": {},
     "output_type": "execute_result"
    }
   ],
   "source": [
    "copyy"
   ]
  },
  {
   "cell_type": "code",
   "execution_count": 52,
   "id": "99162984-0618-4df8-9d1b-10164815ac75",
   "metadata": {},
   "outputs": [],
   "source": [
    "copy=copyy.copy()"
   ]
  },
  {
   "cell_type": "code",
   "execution_count": 54,
   "id": "247d7c18-7938-4ab2-8ff1-967e2b1871ce",
   "metadata": {},
   "outputs": [
    {
     "data": {
      "text/plain": [
       "{'name': 'Jameel', 'age': 26, 'city': 'Hyderabad', 'Experience': 14}"
      ]
     },
     "execution_count": 54,
     "metadata": {},
     "output_type": "execute_result"
    }
   ],
   "source": [
    "copy"
   ]
  },
  {
   "cell_type": "code",
   "execution_count": 56,
   "id": "8160584b-e021-4776-9358-58c28f3c92fb",
   "metadata": {},
   "outputs": [],
   "source": [
    "jameel_info['Experience']=15"
   ]
  },
  {
   "cell_type": "code",
   "execution_count": 58,
   "id": "81b3e88a-bc4f-43cb-bf60-bfcb8efc099b",
   "metadata": {},
   "outputs": [
    {
     "data": {
      "text/plain": [
       "{'name': 'Jameel', 'age': 26, 'city': 'Hyderabad', 'Experience': 15}"
      ]
     },
     "execution_count": 58,
     "metadata": {},
     "output_type": "execute_result"
    }
   ],
   "source": [
    "jameel_info"
   ]
  },
  {
   "cell_type": "code",
   "execution_count": 60,
   "id": "bd75fcc5-a085-492f-bb48-def7e4ee3081",
   "metadata": {},
   "outputs": [],
   "source": [
    "copyy.clear()"
   ]
  },
  {
   "cell_type": "code",
   "execution_count": 62,
   "id": "a6450180-6b48-4bcb-975f-41c931af7d77",
   "metadata": {},
   "outputs": [
    {
     "data": {
      "text/plain": [
       "{}"
      ]
     },
     "execution_count": 62,
     "metadata": {},
     "output_type": "execute_result"
    }
   ],
   "source": [
    "copyy"
   ]
  },
  {
   "cell_type": "code",
   "execution_count": 64,
   "id": "2dab00e8-11a2-48e1-8c6e-740fd8d02915",
   "metadata": {},
   "outputs": [
    {
     "data": {
      "text/plain": [
       "{'name': 'Jameel', 'age': 26, 'city': 'Hyderabad', 'Experience': 14}"
      ]
     },
     "execution_count": 64,
     "metadata": {},
     "output_type": "execute_result"
    }
   ],
   "source": [
    "copy"
   ]
  },
  {
   "cell_type": "code",
   "execution_count": 67,
   "id": "2805a2e9-0959-47ab-8b83-46ada2f1b0c9",
   "metadata": {},
   "outputs": [],
   "source": [
    "del copy"
   ]
  },
  {
   "cell_type": "code",
   "execution_count": 69,
   "id": "d9626800-5b97-4211-b69c-4a3c49761103",
   "metadata": {},
   "outputs": [
    {
     "name": "stdout",
     "output_type": "stream",
     "text": [
      "The syntax of the command is incorrect.\n"
     ]
    }
   ],
   "source": [
    "copy"
   ]
  },
  {
   "cell_type": "markdown",
   "id": "8875f847-e1f1-499d-9bb2-28c5f2a900b0",
   "metadata": {},
   "source": [
    "#### Nested Dictionaries"
   ]
  },
  {
   "cell_type": "code",
   "execution_count": 73,
   "id": "e4410893-2941-4454-b012-f5cec2134137",
   "metadata": {},
   "outputs": [
    {
     "name": "stdout",
     "output_type": "stream",
     "text": [
      "{'student1': {'name': 'John', 'age': 21, 'courses': ['Math', 'Physics']}, 'student2': {'name': 'Alice', 'age': 22, 'courses': ['Biology', 'Chemistry']}}\n"
     ]
    }
   ],
   "source": [
    "# Example of a nested dictionary\n",
    "students = {\n",
    "    'student1': {\n",
    "        'name': 'John',\n",
    "        'age': 21,\n",
    "        'courses': ['Math', 'Physics']\n",
    "    },\n",
    "    'student2': {\n",
    "        'name': 'Alice',\n",
    "        'age': 22,\n",
    "        'courses': ['Biology', 'Chemistry']\n",
    "    }\n",
    "}\n",
    "\n",
    "print(students)"
   ]
  },
  {
   "cell_type": "code",
   "execution_count": 75,
   "id": "84daa31f-91d4-4884-a9df-facde182ed4e",
   "metadata": {},
   "outputs": [
    {
     "name": "stdout",
     "output_type": "stream",
     "text": [
      "John\n",
      "['Biology', 'Chemistry']\n"
     ]
    }
   ],
   "source": [
    "# Accessing nested dictionary values\n",
    "print(students['student1']['name'])  # Output: John\n",
    "print(students['student2']['courses'])  # Output: ['Biology', 'Chemistry']"
   ]
  },
  {
   "cell_type": "code",
   "execution_count": 77,
   "id": "ac4f3d12-65d5-4c39-9795-a4ac1659533f",
   "metadata": {},
   "outputs": [
    {
     "name": "stdout",
     "output_type": "stream",
     "text": [
      "{'student1': {'name': 'John', 'age': 23, 'courses': ['Math', 'Physics']}, 'student2': {'name': 'Alice', 'age': 22, 'courses': ['Biology', 'Chemistry']}, 'student3': {'name': 'Mark', 'age': 20, 'courses': ['English', 'History']}}\n"
     ]
    }
   ],
   "source": [
    "# Adding a new student\n",
    "students['student3'] = {\n",
    "    'name': 'Mark',\n",
    "    'age': 20,\n",
    "    'courses': ['English', 'History']\n",
    "}\n",
    "\n",
    "# Modifying an existing student\n",
    "students['student1']['age'] = 23\n",
    "\n",
    "print(students)\n"
   ]
  },
  {
   "cell_type": "code",
   "execution_count": 79,
   "id": "b8a66a37-91c8-408a-928e-d6e860754a34",
   "metadata": {},
   "outputs": [
    {
     "name": "stdout",
     "output_type": "stream",
     "text": [
      "Student ID: student1\n",
      "name: John\n",
      "age: 23\n",
      "courses: ['Math', 'Physics']\n",
      "\n",
      "Student ID: student2\n",
      "name: Alice\n",
      "age: 22\n",
      "courses: ['Biology', 'Chemistry']\n",
      "\n",
      "Student ID: student3\n",
      "name: Mark\n",
      "age: 20\n",
      "courses: ['English', 'History']\n",
      "\n"
     ]
    }
   ],
   "source": [
    "# Iterating through the nested dictionary\n",
    "for student_id, student_info in students.items():\n",
    "    print(f\"Student ID: {student_id}\")\n",
    "    for key, value in student_info.items():\n",
    "        print(f\"{key}: {value}\")\n",
    "    print()\n"
   ]
  },
  {
   "cell_type": "code",
   "execution_count": 81,
   "id": "6bcc438b-05d7-465b-81c1-a0526a509b84",
   "metadata": {},
   "outputs": [
    {
     "name": "stdout",
     "output_type": "stream",
     "text": [
      "{'student1': {'name': 'John', 'age': 23, 'courses': ['Math', 'Physics']}, 'student3': {'name': 'Mark', 'age': 20, 'courses': ['English', 'History']}}\n"
     ]
    }
   ],
   "source": [
    "# Deleting a student\n",
    "del students['student2']\n",
    "\n",
    "print(students)\n"
   ]
  },
  {
   "cell_type": "code",
   "execution_count": 85,
   "id": "f668f1ba-4b83-4714-9780-4af8044a23a6",
   "metadata": {},
   "outputs": [
    {
     "name": "stdout",
     "output_type": "stream",
     "text": [
      "{'student1': {'name': 'John', 'age': 23, 'courses': ['Math', 'Physics']}, 'student3': {'name': 'Mark', 'age': 20, 'courses': ['English', 'History']}}\n"
     ]
    }
   ],
   "source": [
    "print(students)"
   ]
  },
  {
   "cell_type": "code",
   "execution_count": 87,
   "id": "6bd50a5b-5bbc-4f7b-8f85-65db10e38a27",
   "metadata": {},
   "outputs": [
    {
     "data": {
      "text/plain": [
       "{'student1': {'name': 'John', 'age': 23, 'courses': ['Math', 'Physics']},\n",
       " 'student3': {'name': 'Mark', 'age': 20, 'courses': ['English', 'History']}}"
      ]
     },
     "execution_count": 87,
     "metadata": {},
     "output_type": "execute_result"
    }
   ],
   "source": [
    "students"
   ]
  },
  {
   "cell_type": "code",
   "execution_count": 91,
   "id": "ea81f325-b8a1-42e3-9f18-f4c13f61b4a4",
   "metadata": {},
   "outputs": [
    {
     "data": {
      "text/plain": [
       "'John'"
      ]
     },
     "execution_count": 91,
     "metadata": {},
     "output_type": "execute_result"
    }
   ],
   "source": [
    "students['student1']['name']"
   ]
  },
  {
   "cell_type": "code",
   "execution_count": 97,
   "id": "74058718-b76e-41a4-b7d2-a43df6d7198e",
   "metadata": {},
   "outputs": [],
   "source": [
    "students['student1'].update({'age':27})"
   ]
  },
  {
   "cell_type": "code",
   "execution_count": 99,
   "id": "d02c973d-229f-45f5-b5a2-f50f0b847b81",
   "metadata": {},
   "outputs": [
    {
     "data": {
      "text/plain": [
       "{'student1': {'name': 'John', 'age': 27, 'courses': ['Math', 'Physics']},\n",
       " 'student3': {'name': 'Mark', 'age': 20, 'courses': ['English', 'History']}}"
      ]
     },
     "execution_count": 99,
     "metadata": {},
     "output_type": "execute_result"
    }
   ],
   "source": [
    "students"
   ]
  },
  {
   "cell_type": "code",
   "execution_count": 105,
   "id": "ce9fa843-4ac8-4b15-994d-6f8b94eb8f9f",
   "metadata": {},
   "outputs": [],
   "source": [
    "students['student3'].update({'name':'John Shaw'})"
   ]
  },
  {
   "cell_type": "code",
   "execution_count": 107,
   "id": "b057f34f-8cab-4974-b3e3-68e643a253d9",
   "metadata": {},
   "outputs": [
    {
     "data": {
      "text/plain": [
       "{'student1': {'name': 'John', 'age': 27, 'courses': ['Math', 'Physics']},\n",
       " 'student3': {'name': 'John Shaw',\n",
       "  'age': 20,\n",
       "  'courses': ['English', 'History']}}"
      ]
     },
     "execution_count": 107,
     "metadata": {},
     "output_type": "execute_result"
    }
   ],
   "source": [
    "students"
   ]
  },
  {
   "cell_type": "markdown",
   "id": "19235c6e-8f62-4494-ac0d-25d8bff3b9ad",
   "metadata": {},
   "source": [
    "### sets"
   ]
  },
  {
   "cell_type": "markdown",
   "id": "8704fbd3-f2c5-4a71-bf69-e9fd63159064",
   "metadata": {},
   "source": [
    "### creating sets"
   ]
  },
  {
   "cell_type": "code",
   "execution_count": 111,
   "id": "70f8a5be-48e0-4318-aaa5-adce244a587d",
   "metadata": {},
   "outputs": [],
   "source": [
    "set1 = {1,3,5,7,9}"
   ]
  },
  {
   "cell_type": "code",
   "execution_count": 113,
   "id": "4e3341e6-d895-4a3c-8061-fa9620b3ee83",
   "metadata": {},
   "outputs": [
    {
     "data": {
      "text/plain": [
       "set"
      ]
     },
     "execution_count": 113,
     "metadata": {},
     "output_type": "execute_result"
    }
   ],
   "source": [
    "type(set1)"
   ]
  },
  {
   "cell_type": "code",
   "execution_count": 115,
   "id": "c96504fb-c6e7-40ac-9750-c2c9effaba3b",
   "metadata": {},
   "outputs": [],
   "source": [
    "set2 = {8,3,0,1,9,2}"
   ]
  },
  {
   "cell_type": "code",
   "execution_count": 117,
   "id": "89740451-a708-47af-8279-8c14c1bf33ff",
   "metadata": {},
   "outputs": [
    {
     "data": {
      "text/plain": [
       "{0, 1, 2, 3, 8, 9}"
      ]
     },
     "execution_count": 117,
     "metadata": {},
     "output_type": "execute_result"
    }
   ],
   "source": [
    "set2"
   ]
  },
  {
   "cell_type": "code",
   "execution_count": 123,
   "id": "5380ba29-1f1a-461d-9a3f-25cb4a043daf",
   "metadata": {},
   "outputs": [],
   "source": [
    "set1.add(11) # Adds the element towards the end"
   ]
  },
  {
   "cell_type": "code",
   "execution_count": 125,
   "id": "b7de6bcf-3a26-428c-9c50-9ddec008c4b4",
   "metadata": {},
   "outputs": [
    {
     "data": {
      "text/plain": [
       "{1, 3, 5, 7, 9, 11}"
      ]
     },
     "execution_count": 125,
     "metadata": {},
     "output_type": "execute_result"
    }
   ],
   "source": [
    "set1"
   ]
  },
  {
   "cell_type": "code",
   "execution_count": 127,
   "id": "9d5f6cf8-d335-406f-9d7b-2a2fcd1b3d87",
   "metadata": {},
   "outputs": [],
   "source": [
    "set3 = {\"horse\",3,3,\"apple\",\"horse\",2,0}"
   ]
  },
  {
   "cell_type": "code",
   "execution_count": 129,
   "id": "42c412f1-eb57-46c0-b5a9-cde9271a72b1",
   "metadata": {},
   "outputs": [
    {
     "data": {
      "text/plain": [
       "{0, 2, 3, 'apple', 'horse'}"
      ]
     },
     "execution_count": 129,
     "metadata": {},
     "output_type": "execute_result"
    }
   ],
   "source": [
    "set3"
   ]
  },
  {
   "cell_type": "code",
   "execution_count": 131,
   "id": "8dadbc00-4284-4758-8663-928e393f685f",
   "metadata": {},
   "outputs": [],
   "source": [
    "set1.add(\"Hello\")"
   ]
  },
  {
   "cell_type": "code",
   "execution_count": 133,
   "id": "f60e168f-77cb-4827-90d6-77b8c3b7bf4a",
   "metadata": {},
   "outputs": [
    {
     "data": {
      "text/plain": [
       "{1, 11, 3, 5, 7, 9, 'Hello'}"
      ]
     },
     "execution_count": 133,
     "metadata": {},
     "output_type": "execute_result"
    }
   ],
   "source": [
    "set1"
   ]
  },
  {
   "cell_type": "code",
   "execution_count": 135,
   "id": "f7d1b511-8c72-4910-a2f8-0a56513488ec",
   "metadata": {},
   "outputs": [],
   "source": [
    "multOfThree = {3,6,9,12,15,18,21,24,27,30}\n",
    "multOfFour = {4,8,12,16,20,24,28,32,36,40}"
   ]
  },
  {
   "cell_type": "markdown",
   "id": "380f72b9-f2ee-43ba-a5ad-60c81f1cd54a",
   "metadata": {},
   "source": [
    "### Union"
   ]
  },
  {
   "cell_type": "code",
   "execution_count": 142,
   "id": "c575ca7e-81df-4e71-ab40-ec3cf1298ab0",
   "metadata": {},
   "outputs": [],
   "source": [
    "combined = multOfThree.union(multOfFour) # all elements in A and B but one time"
   ]
  },
  {
   "cell_type": "code",
   "execution_count": 144,
   "id": "79ce606a-1ae2-41d3-8d39-29943f180915",
   "metadata": {},
   "outputs": [
    {
     "data": {
      "text/plain": [
       "{3, 4, 6, 8, 9, 12, 15, 16, 18, 20, 21, 24, 27, 28, 30, 32, 36, 40}"
      ]
     },
     "execution_count": 144,
     "metadata": {},
     "output_type": "execute_result"
    }
   ],
   "source": [
    "combined"
   ]
  },
  {
   "cell_type": "code",
   "execution_count": 176,
   "id": "19927135-4d30-407a-a481-480fcf7333f0",
   "metadata": {},
   "outputs": [],
   "source": [
    "mul3 = {3,6,9,12,15}\n",
    "mul4 = {4,8,12,16,20}"
   ]
  },
  {
   "cell_type": "markdown",
   "id": "b45d9004-292e-47ca-bb09-8ce618263673",
   "metadata": {},
   "source": [
    "### Intersection"
   ]
  },
  {
   "cell_type": "code",
   "execution_count": 159,
   "id": "fe7b7310-9f9f-44d6-abc8-86046be34c0f",
   "metadata": {},
   "outputs": [],
   "source": [
    "common = mul3.intersection(mul4)  # Returns the common elements from both sets."
   ]
  },
  {
   "cell_type": "code",
   "execution_count": 161,
   "id": "5332e0c0-e3c7-40da-8613-048371d776eb",
   "metadata": {},
   "outputs": [
    {
     "data": {
      "text/plain": [
       "{12}"
      ]
     },
     "execution_count": 161,
     "metadata": {},
     "output_type": "execute_result"
    }
   ],
   "source": [
    "common"
   ]
  },
  {
   "cell_type": "code",
   "execution_count": 163,
   "id": "c2743781-2656-40b8-9e89-1ecdb02d6823",
   "metadata": {},
   "outputs": [
    {
     "data": {
      "text/plain": [
       "{4, 8, 12, 16, 20}"
      ]
     },
     "execution_count": 163,
     "metadata": {},
     "output_type": "execute_result"
    }
   ],
   "source": [
    "mul4"
   ]
  },
  {
   "cell_type": "code",
   "execution_count": 167,
   "id": "694576af-8444-4628-94b7-87816e15d987",
   "metadata": {},
   "outputs": [],
   "source": [
    "mul3.intersection_update(mul4)"
   ]
  },
  {
   "cell_type": "markdown",
   "id": "5ca9d1c8-e161-466e-9b52-2460cce3fb46",
   "metadata": {},
   "source": [
    "### Difference"
   ]
  },
  {
   "cell_type": "code",
   "execution_count": 178,
   "id": "d28e3046-63f2-4c3f-8421-86d7e7f6b3c2",
   "metadata": {},
   "outputs": [],
   "source": [
    "diff = mul3.difference(mul4)"
   ]
  },
  {
   "cell_type": "code",
   "execution_count": 180,
   "id": "b8e25a3e-9ad4-4a76-98d0-026b203139a3",
   "metadata": {},
   "outputs": [
    {
     "data": {
      "text/plain": [
       "{3, 6, 9, 15}"
      ]
     },
     "execution_count": 180,
     "metadata": {},
     "output_type": "execute_result"
    }
   ],
   "source": [
    "diff"
   ]
  },
  {
   "cell_type": "code",
   "execution_count": 184,
   "id": "9af2b43b-6808-4a03-8372-a96f15fc9df5",
   "metadata": {},
   "outputs": [
    {
     "name": "stdout",
     "output_type": "stream",
     "text": [
      "{3, 6, 9, 12, 15}\n",
      "{16, 4, 20, 8, 12}\n"
     ]
    }
   ],
   "source": [
    "print(mul3)\n",
    "print(mul4)"
   ]
  },
  {
   "cell_type": "code",
   "execution_count": 186,
   "id": "e11d0b20-44eb-4d4f-85db-ecb4b79f52cb",
   "metadata": {},
   "outputs": [],
   "source": [
    "diff = mul3.difference(mul4)  # Returns the elements in mul3 that are not in mul4."
   ]
  },
  {
   "cell_type": "code",
   "execution_count": 188,
   "id": "82f3a64d-20b3-4b19-84a7-24b2c7dcae76",
   "metadata": {},
   "outputs": [
    {
     "data": {
      "text/plain": [
       "{3, 6, 9, 15}"
      ]
     },
     "execution_count": 188,
     "metadata": {},
     "output_type": "execute_result"
    }
   ],
   "source": [
    "diff"
   ]
  },
  {
   "cell_type": "code",
   "execution_count": 190,
   "id": "e2fbcc91-8b67-46fc-b8c7-cc6461d02a58",
   "metadata": {},
   "outputs": [],
   "source": [
    "diff = mul4.difference(mul3)"
   ]
  },
  {
   "cell_type": "code",
   "execution_count": 192,
   "id": "f8b1ef23-ee32-4da9-8884-adb3be5c6155",
   "metadata": {},
   "outputs": [
    {
     "data": {
      "text/plain": [
       "{4, 8, 16, 20}"
      ]
     },
     "execution_count": 192,
     "metadata": {},
     "output_type": "execute_result"
    }
   ],
   "source": [
    "diff"
   ]
  },
  {
   "cell_type": "code",
   "execution_count": 200,
   "id": "aea0855e-5218-4295-8cc6-eafd6dc4defd",
   "metadata": {},
   "outputs": [
    {
     "data": {
      "text/plain": [
       "{4, 8, 16, 20}"
      ]
     },
     "execution_count": 200,
     "metadata": {},
     "output_type": "execute_result"
    }
   ],
   "source": [
    "mul4 - mul3"
   ]
  },
  {
   "cell_type": "code",
   "execution_count": 204,
   "id": "59f4be56-2b35-404a-bbcc-819a8ee3d30d",
   "metadata": {},
   "outputs": [
    {
     "name": "stdout",
     "output_type": "stream",
     "text": [
      "{3, 6, 9, 12, 15}\n",
      "{16, 4, 20, 8, 12}\n"
     ]
    }
   ],
   "source": [
    "print(mul3)\n",
    "print(mul4)"
   ]
  },
  {
   "cell_type": "code",
   "execution_count": 214,
   "id": "8a1483b0-b0e2-437c-b8de-88bda6a19cb5",
   "metadata": {},
   "outputs": [],
   "source": [
    "diff1 = mul3.difference(mul4)"
   ]
  },
  {
   "cell_type": "code",
   "execution_count": 216,
   "id": "23d5e36c-7183-45f9-b996-e186c4bc3f82",
   "metadata": {},
   "outputs": [],
   "source": [
    "diff2 = mul3.difference_update(mul4)"
   ]
  },
  {
   "cell_type": "code",
   "execution_count": 218,
   "id": "8fc96279-b7b1-498e-a5a6-be5ecf43eff7",
   "metadata": {},
   "outputs": [
    {
     "data": {
      "text/plain": [
       "{3, 6, 9, 15}"
      ]
     },
     "execution_count": 218,
     "metadata": {},
     "output_type": "execute_result"
    }
   ],
   "source": [
    "diff1"
   ]
  },
  {
   "cell_type": "code",
   "execution_count": 220,
   "id": "9fa0dc97-656b-45c6-8f43-e32daed781bd",
   "metadata": {},
   "outputs": [],
   "source": [
    "diff2"
   ]
  },
  {
   "cell_type": "code",
   "execution_count": 222,
   "id": "b36d4f7c-b44f-4019-b189-46e60db4bfdb",
   "metadata": {},
   "outputs": [
    {
     "data": {
      "text/plain": [
       "{3, 6, 9, 15}"
      ]
     },
     "execution_count": 222,
     "metadata": {},
     "output_type": "execute_result"
    }
   ],
   "source": [
    "mul3"
   ]
  },
  {
   "cell_type": "code",
   "execution_count": 225,
   "id": "53fa889a-df44-4fd3-a2fd-5498e28969ea",
   "metadata": {},
   "outputs": [
    {
     "data": {
      "text/plain": [
       "{4, 8, 12, 16, 20}"
      ]
     },
     "execution_count": 225,
     "metadata": {},
     "output_type": "execute_result"
    }
   ],
   "source": [
    "mul4"
   ]
  },
  {
   "cell_type": "markdown",
   "id": "c3653a89-1dd2-4700-a184-075aeef38f23",
   "metadata": {},
   "source": [
    "### Symmetric Difference"
   ]
  },
  {
   "cell_type": "code",
   "execution_count": 251,
   "id": "2f09a576-e3ed-4df7-a5ad-dcae6e5099c1",
   "metadata": {},
   "outputs": [],
   "source": [
    "set1 = {1,34,5,6,12,34,5,5}"
   ]
  },
  {
   "cell_type": "code",
   "execution_count": 253,
   "id": "d677e651-630f-4ac5-bedf-d51ea2d1cca7",
   "metadata": {},
   "outputs": [
    {
     "data": {
      "text/plain": [
       "{1, 5, 6, 12, 34}"
      ]
     },
     "execution_count": 253,
     "metadata": {},
     "output_type": "execute_result"
    }
   ],
   "source": [
    "set1"
   ]
  },
  {
   "cell_type": "code",
   "execution_count": 255,
   "id": "9e7fab7a-15e5-42fb-aa55-2fb556ee953d",
   "metadata": {},
   "outputs": [],
   "source": [
    "set2 = {1,3,45,5}"
   ]
  },
  {
   "cell_type": "code",
   "execution_count": 269,
   "id": "ea566431-92b9-47a5-9aaa-601abb85c813",
   "metadata": {},
   "outputs": [
    {
     "data": {
      "text/plain": [
       "{1, 3, 5, 45}"
      ]
     },
     "execution_count": 269,
     "metadata": {},
     "output_type": "execute_result"
    }
   ],
   "source": [
    "set2"
   ]
  },
  {
   "cell_type": "code",
   "execution_count": 257,
   "id": "aa2cde6b-8ad0-42d3-9f80-2e6912c1cd46",
   "metadata": {},
   "outputs": [
    {
     "data": {
      "text/plain": [
       "{6, 12, 34}"
      ]
     },
     "execution_count": 257,
     "metadata": {},
     "output_type": "execute_result"
    }
   ],
   "source": [
    "set1.difference(set2)"
   ]
  },
  {
   "cell_type": "code",
   "execution_count": 271,
   "id": "887fbd90-a82c-4094-aa97-3f4969421a87",
   "metadata": {},
   "outputs": [
    {
     "name": "stdout",
     "output_type": "stream",
     "text": [
      "{1, 34, 5, 6, 12}\n",
      "{45, 1, 3, 5}\n"
     ]
    }
   ],
   "source": [
    "print(set1)\n",
    "print(set2)"
   ]
  },
  {
   "cell_type": "code",
   "execution_count": 261,
   "id": "2fc2f0b0-5d75-4b9f-9576-0a952c0593b5",
   "metadata": {},
   "outputs": [
    {
     "data": {
      "text/plain": [
       "{3, 6, 12, 34, 45}"
      ]
     },
     "execution_count": 261,
     "metadata": {},
     "output_type": "execute_result"
    }
   ],
   "source": [
    "set1.symmetric_difference(set2)"
   ]
  },
  {
   "cell_type": "code",
   "execution_count": 239,
   "id": "69bdd765-d68d-4651-a03b-d119086781ff",
   "metadata": {},
   "outputs": [],
   "source": [
    "set1.symmetric_difference_update(set2)"
   ]
  },
  {
   "cell_type": "code",
   "execution_count": 273,
   "id": "27477168-dad6-417a-8334-a2bca622a076",
   "metadata": {},
   "outputs": [],
   "source": [
    "set1.remove(1)"
   ]
  },
  {
   "cell_type": "code",
   "execution_count": 275,
   "id": "a9a918e7-38a8-4f10-85eb-fbcca01a188c",
   "metadata": {},
   "outputs": [
    {
     "data": {
      "text/plain": [
       "{5, 6, 12, 34}"
      ]
     },
     "execution_count": 275,
     "metadata": {},
     "output_type": "execute_result"
    }
   ],
   "source": [
    "set1"
   ]
  },
  {
   "cell_type": "code",
   "execution_count": 277,
   "id": "6fddb011-c11d-43e1-95ac-786e9e6570a1",
   "metadata": {},
   "outputs": [],
   "source": [
    "set1.add(77)"
   ]
  },
  {
   "cell_type": "code",
   "execution_count": 279,
   "id": "cf60f286-7ea9-4f1b-b226-4451c9e09b9c",
   "metadata": {},
   "outputs": [
    {
     "data": {
      "text/plain": [
       "{5, 6, 12, 34, 77}"
      ]
     },
     "execution_count": 279,
     "metadata": {},
     "output_type": "execute_result"
    }
   ],
   "source": [
    "set1"
   ]
  },
  {
   "cell_type": "markdown",
   "id": "dd348a01-f8a7-4396-ae9b-6b5632644094",
   "metadata": {},
   "source": [
    "### Conditional Statements"
   ]
  },
  {
   "cell_type": "markdown",
   "id": "03b86d49-9df2-4456-bb08-7bc4c10bfaea",
   "metadata": {},
   "source": [
    "## if, else, if else"
   ]
  },
  {
   "cell_type": "code",
   "execution_count": 285,
   "id": "385c6cf9-a9f0-43fe-9c0e-1581e1533059",
   "metadata": {},
   "outputs": [
    {
     "name": "stdin",
     "output_type": "stream",
     "text": [
      "Enter the number 7\n"
     ]
    }
   ],
   "source": [
    "x = int(input(\"Enter the number\"))\n",
    "if x % 2 == 0:\n",
    "    print(\"The given number is even\")"
   ]
  },
  {
   "cell_type": "code",
   "execution_count": 293,
   "id": "86fa692a-07b6-424e-b8fd-b8541614c2a2",
   "metadata": {},
   "outputs": [
    {
     "name": "stdin",
     "output_type": "stream",
     "text": [
      "Enter the Number 88\n"
     ]
    },
    {
     "name": "stdout",
     "output_type": "stream",
     "text": [
      "The given number is greater than 2\n"
     ]
    }
   ],
   "source": [
    "x = int(input(\"Enter the Number\"))\n",
    "if x > 2:\n",
    "    print(\"The given number is greater than 2\")\n",
    "else:\n",
    "    print(\"The given number is not greater than 2\")"
   ]
  },
  {
   "cell_type": "code",
   "execution_count": 291,
   "id": "90e4b14e-f030-4dd2-b06c-626c208cb1d2",
   "metadata": {},
   "outputs": [
    {
     "name": "stdin",
     "output_type": "stream",
     "text": [
      "Enter the number 9\n"
     ]
    },
    {
     "name": "stdout",
     "output_type": "stream",
     "text": [
      "The given number is odd\n"
     ]
    }
   ],
   "source": [
    "x = int(input(\"Enter the number\"))\n",
    "if x % 2 == 0:\n",
    "    print(\"The given number is even\")\n",
    "else:\n",
    "    print(\"The given number is odd\")"
   ]
  },
  {
   "cell_type": "code",
   "execution_count": 299,
   "id": "79938c58-898f-4649-a8a4-e07adaabfafc",
   "metadata": {},
   "outputs": [
    {
     "name": "stdin",
     "output_type": "stream",
     "text": [
      "Enter the number 67\n"
     ]
    },
    {
     "name": "stdout",
     "output_type": "stream",
     "text": [
      "The given number is not a multiple of any of 3,4,or 5\n"
     ]
    }
   ],
   "source": [
    "x = int(input(\"Enter the number\"))\n",
    "if x % 3 == 0:\n",
    "    print(\"The given number is a multiple of 3\")\n",
    "elif x % 4 == 0:\n",
    "    print(\"The given number is a multiple of 4\")\n",
    "elif x % 5 == 0:\n",
    "    print(\"The given number is a multiple of 5\")\n",
    "else:\n",
    "    print(\"The given number is not a multiple of any of 3,4,or 5\")"
   ]
  },
  {
   "cell_type": "markdown",
   "id": "1c2f28a4-216f-4a74-9371-34218edfcc8e",
   "metadata": {},
   "source": [
    "## loops"
   ]
  },
  {
   "cell_type": "markdown",
   "id": "d157e181-36b1-403b-8b04-6093eec7bab0",
   "metadata": {},
   "source": [
    "## for, while"
   ]
  },
  {
   "cell_type": "code",
   "execution_count": 303,
   "id": "e8f53eb6-7f7d-4cf0-9a7d-09670f675ea7",
   "metadata": {},
   "outputs": [
    {
     "name": "stdout",
     "output_type": "stream",
     "text": [
      "3\n",
      "6\n",
      "9\n",
      "15\n"
     ]
    }
   ],
   "source": [
    "for i in mul3:\n",
    "    print(i)"
   ]
  },
  {
   "cell_type": "code",
   "execution_count": 305,
   "id": "e296da91-e18c-4a6e-9da9-3a87e2c2a6bb",
   "metadata": {},
   "outputs": [
    {
     "name": "stdout",
     "output_type": "stream",
     "text": [
      "16\n",
      "4\n",
      "20\n",
      "8\n",
      "12\n"
     ]
    }
   ],
   "source": [
    "for i in mul4:\n",
    "    print(i)"
   ]
  },
  {
   "cell_type": "code",
   "execution_count": 308,
   "id": "8a3fa109-752e-46db-b9d2-2a2cbf351d48",
   "metadata": {},
   "outputs": [],
   "source": [
    "fruits = ['apple','mango','banana','organge']"
   ]
  },
  {
   "cell_type": "code",
   "execution_count": 310,
   "id": "9194442f-e946-49c1-93d0-f41845c54e0d",
   "metadata": {},
   "outputs": [
    {
     "name": "stdout",
     "output_type": "stream",
     "text": [
      "apple\n",
      "mango\n",
      "banana\n",
      "organge\n"
     ]
    }
   ],
   "source": [
    "for i in fruits:\n",
    "    print(i)"
   ]
  },
  {
   "cell_type": "code",
   "execution_count": 314,
   "id": "9a16d92c-0b0a-4703-a713-e3c323b8d23b",
   "metadata": {},
   "outputs": [],
   "source": [
    "x = range(1,11)"
   ]
  },
  {
   "cell_type": "code",
   "execution_count": 320,
   "id": "928e4668-a26f-4d09-b790-ed6ab0c176e1",
   "metadata": {},
   "outputs": [
    {
     "name": "stdout",
     "output_type": "stream",
     "text": [
      "The square of 1 is 1\n",
      "The square of 2 is 4\n",
      "The square of 3 is 9\n",
      "The square of 4 is 16\n",
      "The square of 5 is 25\n",
      "The square of 6 is 36\n",
      "The square of 7 is 49\n",
      "The square of 8 is 64\n",
      "The square of 9 is 81\n",
      "The square of 10 is 100\n"
     ]
    }
   ],
   "source": [
    "for i in x:\n",
    "    print(\"The square of {} is {}\".format(i,i**2))"
   ]
  },
  {
   "cell_type": "markdown",
   "id": "31d833a0-836f-41ab-b29a-446328b5a7f8",
   "metadata": {},
   "source": [
    "### while loop"
   ]
  },
  {
   "cell_type": "code",
   "execution_count": 329,
   "id": "01e8bae7-49fa-4232-90dd-49f50df11b53",
   "metadata": {},
   "outputs": [
    {
     "name": "stdout",
     "output_type": "stream",
     "text": [
      "0\n",
      "1\n",
      "2\n",
      "3\n",
      "4\n",
      "5\n",
      "6\n",
      "7\n",
      "8\n",
      "9\n",
      "10\n"
     ]
    }
   ],
   "source": [
    "i = 0\n",
    "while i <= 10:\n",
    "    print(i)\n",
    "    i += 1"
   ]
  },
  {
   "cell_type": "markdown",
   "id": "6bb4b63f-a739-4bba-9804-3c8e02cd8c28",
   "metadata": {},
   "source": [
    "##### list comprehension"
   ]
  },
  {
   "cell_type": "code",
   "execution_count": 332,
   "id": "621de539-ba35-46b2-84f6-a332db53aaff",
   "metadata": {},
   "outputs": [],
   "source": [
    "m3 = [1,2,3,4,5,6,7,8,9]"
   ]
  },
  {
   "cell_type": "code",
   "execution_count": 334,
   "id": "e5a7ae51-74c2-41f7-9d41-07ee41106b38",
   "metadata": {},
   "outputs": [],
   "source": [
    "m3Square = [x**2 for x in range(10)]"
   ]
  },
  {
   "cell_type": "code",
   "execution_count": 336,
   "id": "456bef07-5fbb-4b50-a7ae-fb0518088379",
   "metadata": {},
   "outputs": [
    {
     "data": {
      "text/plain": [
       "[0, 1, 4, 9, 16, 25, 36, 49, 64, 81]"
      ]
     },
     "execution_count": 336,
     "metadata": {},
     "output_type": "execute_result"
    }
   ],
   "source": [
    "m3Square"
   ]
  },
  {
   "cell_type": "code",
   "execution_count": 338,
   "id": "9b046508-36a0-4d04-8d86-32bab5cf3c36",
   "metadata": {},
   "outputs": [],
   "source": [
    "even = [ x for x in m3 if x%2 == 0]"
   ]
  },
  {
   "cell_type": "code",
   "execution_count": 340,
   "id": "effd32aa-7564-4e24-a2c6-dae456b28d63",
   "metadata": {},
   "outputs": [
    {
     "data": {
      "text/plain": [
       "[2, 4, 6, 8]"
      ]
     },
     "execution_count": 340,
     "metadata": {},
     "output_type": "execute_result"
    }
   ],
   "source": [
    "even"
   ]
  },
  {
   "cell_type": "code",
   "execution_count": 342,
   "id": "60b80ecb-ff0f-4e80-9d2b-45bb7953cf69",
   "metadata": {},
   "outputs": [],
   "source": [
    "odd = [x for x in m3 if x%2 != 0]"
   ]
  },
  {
   "cell_type": "code",
   "execution_count": 344,
   "id": "198976b5-196d-45ed-9a57-ef95e5ebb3f0",
   "metadata": {},
   "outputs": [
    {
     "data": {
      "text/plain": [
       "[1, 3, 5, 7, 9]"
      ]
     },
     "execution_count": 344,
     "metadata": {},
     "output_type": "execute_result"
    }
   ],
   "source": [
    "odd"
   ]
  },
  {
   "cell_type": "code",
   "execution_count": 346,
   "id": "bbf0e82a-7165-41a4-955c-7939a8c98eec",
   "metadata": {},
   "outputs": [],
   "source": [
    "first20 = [x for x in range(1,21)]"
   ]
  },
  {
   "cell_type": "code",
   "execution_count": 348,
   "id": "170a587d-a19d-423a-a739-c2a4b5780502",
   "metadata": {},
   "outputs": [
    {
     "data": {
      "text/plain": [
       "[1, 2, 3, 4, 5, 6, 7, 8, 9, 10, 11, 12, 13, 14, 15, 16, 17, 18, 19, 20]"
      ]
     },
     "execution_count": 348,
     "metadata": {},
     "output_type": "execute_result"
    }
   ],
   "source": [
    "first20"
   ]
  },
  {
   "cell_type": "code",
   "execution_count": 368,
   "id": "f14e6a87-8084-4769-8137-1d4d2c4d9015",
   "metadata": {},
   "outputs": [],
   "source": [
    "cubes = {'The cube of {} is '.format(x):x**3 for x in mul3}"
   ]
  },
  {
   "cell_type": "code",
   "execution_count": 370,
   "id": "66d3835d-aa93-4a63-be83-022e16c9fbf2",
   "metadata": {},
   "outputs": [
    {
     "data": {
      "text/plain": [
       "{'The cube of 3 is ': 27,\n",
       " 'The cube of 6 is ': 216,\n",
       " 'The cube of 9 is ': 729,\n",
       " 'The cube of 15 is ': 3375}"
      ]
     },
     "execution_count": 370,
     "metadata": {},
     "output_type": "execute_result"
    }
   ],
   "source": [
    "cubes"
   ]
  },
  {
   "cell_type": "code",
   "execution_count": 378,
   "id": "bba9c99c-a588-4055-838f-6da82ea4d7f2",
   "metadata": {},
   "outputs": [],
   "source": [
    "squareCubes = {'Number is {}'.format(x):{'Its square is {}'.format(x**2),'its cube is {}'.format(x**2)} for x in mul4}"
   ]
  },
  {
   "cell_type": "code",
   "execution_count": 380,
   "id": "7002f7e1-6f9c-46d5-8334-4651674e82aa",
   "metadata": {},
   "outputs": [
    {
     "data": {
      "text/plain": [
       "{'Number is 16': {'Its square is 256', 'its cube is 256'},\n",
       " 'Number is 4': {'Its square is 16', 'its cube is 16'},\n",
       " 'Number is 20': {'Its square is 400', 'its cube is 400'},\n",
       " 'Number is 8': {'Its square is 64', 'its cube is 64'},\n",
       " 'Number is 12': {'Its square is 144', 'its cube is 144'}}"
      ]
     },
     "execution_count": 380,
     "metadata": {},
     "output_type": "execute_result"
    }
   ],
   "source": [
    "squareCubes"
   ]
  },
  {
   "cell_type": "code",
   "execution_count": null,
   "id": "3a429277-71a9-4d6b-9012-1953793d4968",
   "metadata": {},
   "outputs": [],
   "source": []
  }
 ],
 "metadata": {
  "kernelspec": {
   "display_name": "Python 3 (ipykernel)",
   "language": "python",
   "name": "python3"
  },
  "language_info": {
   "codemirror_mode": {
    "name": "ipython",
    "version": 3
   },
   "file_extension": ".py",
   "mimetype": "text/x-python",
   "name": "python",
   "nbconvert_exporter": "python",
   "pygments_lexer": "ipython3",
   "version": "3.12.4"
  }
 },
 "nbformat": 4,
 "nbformat_minor": 5
}
