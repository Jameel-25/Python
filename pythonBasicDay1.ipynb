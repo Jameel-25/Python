{
 "cells": [
  {
   "cell_type": "markdown",
   "id": "59c2079c-9c48-4108-ba4e-94489ef1ce49",
   "metadata": {},
   "source": [
    "### Simple Expressions in Python"
   ]
  },
  {
   "cell_type": "markdown",
   "id": "0b8f5003-b091-45e9-92e2-e1d2f01f4294",
   "metadata": {},
   "source": [
    "# Arithmetic Operator"
   ]
  },
  {
   "cell_type": "code",
   "execution_count": 5,
   "id": "665d059a-5b27-46ea-9f89-2a921b67d771",
   "metadata": {},
   "outputs": [
    {
     "data": {
      "text/plain": [
       "15"
      ]
     },
     "execution_count": 5,
     "metadata": {},
     "output_type": "execute_result"
    }
   ],
   "source": [
    "8+7"
   ]
  },
  {
   "cell_type": "code",
   "execution_count": 9,
   "id": "323995b6-3098-4e0b-8fdf-46dd4c3b76d8",
   "metadata": {},
   "outputs": [
    {
     "data": {
      "text/plain": [
       "5.0"
      ]
     },
     "execution_count": 9,
     "metadata": {},
     "output_type": "execute_result"
    }
   ],
   "source": [
    "15/3"
   ]
  },
  {
   "cell_type": "code",
   "execution_count": 13,
   "id": "5184561b-447d-4e51-84a2-f54112a8d8b5",
   "metadata": {},
   "outputs": [
    {
     "data": {
      "text/plain": [
       "3"
      ]
     },
     "execution_count": 13,
     "metadata": {},
     "output_type": "execute_result"
    }
   ],
   "source": [
    "15//4"
   ]
  },
  {
   "cell_type": "markdown",
   "id": "eb2bb8ee-69dd-4fd2-9689-275762798b63",
   "metadata": {},
   "source": [
    "122/10"
   ]
  },
  {
   "cell_type": "code",
   "execution_count": 20,
   "id": "c6f4a735-6aa3-4ad6-9c7c-1163534dff35",
   "metadata": {},
   "outputs": [
    {
     "data": {
      "text/plain": [
       "12"
      ]
     },
     "execution_count": 20,
     "metadata": {},
     "output_type": "execute_result"
    }
   ],
   "source": [
    "122//10"
   ]
  },
  {
   "cell_type": "code",
   "execution_count": 26,
   "id": "51497599-28c9-4dc9-bf37-57980978610d",
   "metadata": {},
   "outputs": [
    {
     "data": {
      "text/plain": [
       "-13"
      ]
     },
     "execution_count": 26,
     "metadata": {},
     "output_type": "execute_result"
    }
   ],
   "source": [
    "-122//10 #It is appliying greatest integer function"
   ]
  },
  {
   "cell_type": "code",
   "execution_count": 28,
   "id": "8ea6c136-626d-4b41-81e9-d6964af118ff",
   "metadata": {},
   "outputs": [
    {
     "data": {
      "text/plain": [
       "11.818181818181818"
      ]
     },
     "execution_count": 28,
     "metadata": {},
     "output_type": "execute_result"
    }
   ],
   "source": [
    "130/11"
   ]
  },
  {
   "cell_type": "code",
   "execution_count": 30,
   "id": "8d369284-9efd-4af5-be2a-8a688094fda7",
   "metadata": {},
   "outputs": [
    {
     "data": {
      "text/plain": [
       "9"
      ]
     },
     "execution_count": 30,
     "metadata": {},
     "output_type": "execute_result"
    }
   ],
   "source": [
    "130%11"
   ]
  },
  {
   "cell_type": "code",
   "execution_count": 32,
   "id": "8974c8bd-9f57-4967-888b-f8afaddf040f",
   "metadata": {},
   "outputs": [
    {
     "data": {
      "text/plain": [
       "6"
      ]
     },
     "execution_count": 32,
     "metadata": {},
     "output_type": "execute_result"
    }
   ],
   "source": [
    "2*3"
   ]
  },
  {
   "cell_type": "code",
   "execution_count": 45,
   "id": "5ebd6f49-347f-4d1f-9e0e-12c79f113dd0",
   "metadata": {},
   "outputs": [
    {
     "data": {
      "text/plain": [
       "8"
      ]
     },
     "execution_count": 45,
     "metadata": {},
     "output_type": "execute_result"
    }
   ],
   "source": [
    "2**3"
   ]
  },
  {
   "cell_type": "code",
   "execution_count": 47,
   "id": "4bdb1638-c858-4da2-85aa-4029ca7e3ba1",
   "metadata": {},
   "outputs": [],
   "source": [
    "x = -176//10"
   ]
  },
  {
   "cell_type": "code",
   "execution_count": 49,
   "id": "cda2a555-20af-41e0-871e-a331f2b67363",
   "metadata": {},
   "outputs": [
    {
     "data": {
      "text/plain": [
       "-18"
      ]
     },
     "execution_count": 49,
     "metadata": {},
     "output_type": "execute_result"
    }
   ],
   "source": [
    "x"
   ]
  },
  {
   "cell_type": "markdown",
   "id": "abda0371-a88b-4e6b-afc3-d06eb1a9416e",
   "metadata": {},
   "source": [
    "# String Operators"
   ]
  },
  {
   "cell_type": "code",
   "execution_count": 57,
   "id": "82164a0e-f1eb-4f51-93f9-77f5c5d6787f",
   "metadata": {},
   "outputs": [
    {
     "data": {
      "text/plain": [
       "'Hello World'"
      ]
     },
     "execution_count": 57,
     "metadata": {},
     "output_type": "execute_result"
    }
   ],
   "source": [
    "'Hello World'"
   ]
  },
  {
   "cell_type": "code",
   "execution_count": 59,
   "id": "e6242f2f-1317-440a-bb7f-b32282e20ff2",
   "metadata": {},
   "outputs": [
    {
     "name": "stdout",
     "output_type": "stream",
     "text": [
      "Hello World\n"
     ]
    }
   ],
   "source": [
    "print('Hello World')"
   ]
  },
  {
   "cell_type": "code",
   "execution_count": 61,
   "id": "f4118f30-9a57-4d60-8339-559d41136d8e",
   "metadata": {},
   "outputs": [],
   "source": [
    "Greeting = 'Good Morning Jameel. How are you doing?'"
   ]
  },
  {
   "cell_type": "code",
   "execution_count": 63,
   "id": "63988a4d-ce68-4a45-a905-8af02300c8e3",
   "metadata": {},
   "outputs": [
    {
     "data": {
      "text/plain": [
       "'Good Morning Jameel. How are you doing?'"
      ]
     },
     "execution_count": 63,
     "metadata": {},
     "output_type": "execute_result"
    }
   ],
   "source": [
    "Greeting"
   ]
  },
  {
   "cell_type": "code",
   "execution_count": 65,
   "id": "83496e64-5a55-4b75-a110-e2f03c912696",
   "metadata": {},
   "outputs": [
    {
     "name": "stdout",
     "output_type": "stream",
     "text": [
      "Good Morning Jameel. How are you doing?\n"
     ]
    }
   ],
   "source": [
    "print(Greeting)"
   ]
  },
  {
   "cell_type": "code",
   "execution_count": 77,
   "id": "f25fa0e3-eb3c-4de3-b1f8-71e25492583d",
   "metadata": {},
   "outputs": [
    {
     "name": "stdout",
     "output_type": "stream",
     "text": [
      "[1]\n",
      "[1, 1]\n"
     ]
    }
   ],
   "source": [
    "def func(x=[]):\n",
    "    x.append(1)\n",
    "    return x\n",
    "\n",
    "print(func())\n",
    "print(func())"
   ]
  },
  {
   "cell_type": "code",
   "execution_count": 1,
   "id": "408fe78e-af36-49eb-bb18-783e17fce104",
   "metadata": {},
   "outputs": [
    {
     "data": {
      "text/plain": [
       "'Good Eveningto all of you.'"
      ]
     },
     "execution_count": 1,
     "metadata": {},
     "output_type": "execute_result"
    }
   ],
   "source": [
    "\"Good Evening\" + \"to all of you.\" #Concatenation"
   ]
  },
  {
   "cell_type": "code",
   "execution_count": 3,
   "id": "a9292ccf-6049-4217-93aa-6f603793e9fa",
   "metadata": {},
   "outputs": [
    {
     "data": {
      "text/plain": [
       "'Good Evening to all of You!!'"
      ]
     },
     "execution_count": 3,
     "metadata": {},
     "output_type": "execute_result"
    }
   ],
   "source": [
    "\"Good\" +\" \"+\"Evening\" +\" \" + \"to all of You!!\""
   ]
  },
  {
   "cell_type": "code",
   "execution_count": 25,
   "id": "14d5b722-a4b5-4ff1-9158-208bd4914958",
   "metadata": {},
   "outputs": [
    {
     "name": "stdout",
     "output_type": "stream",
     "text": [
      "Good Evening\n",
      "Good Evening\n",
      "Good Evening\n",
      "\n"
     ]
    }
   ],
   "source": [
    "print(\"Good Evening\\n\" * 3)"
   ]
  },
  {
   "cell_type": "code",
   "execution_count": 31,
   "id": "b3e16c29-d8b0-4803-8432-5cb828d2cf90",
   "metadata": {},
   "outputs": [
    {
     "name": "stdout",
     "output_type": "stream",
     "text": [
      "Good Evening Good Evening Good Evening \n"
     ]
    }
   ],
   "source": [
    "print(\"Good Evening \" * 3)"
   ]
  },
  {
   "cell_type": "markdown",
   "id": "31ea3123-529a-469c-99ec-e179d4ed39f6",
   "metadata": {},
   "source": [
    "### Comparision"
   ]
  },
  {
   "cell_type": "code",
   "execution_count": 44,
   "id": "56f78265-bee0-45d5-985c-52cf25c9b6ab",
   "metadata": {},
   "outputs": [
    {
     "data": {
      "text/plain": [
       "True"
      ]
     },
     "execution_count": 44,
     "metadata": {},
     "output_type": "execute_result"
    }
   ],
   "source": [
    "5 == 5 # Is 5 equal to 5"
   ]
  },
  {
   "cell_type": "code",
   "execution_count": 46,
   "id": "327742c3-72f3-4422-b8fb-34f95de584ff",
   "metadata": {},
   "outputs": [
    {
     "data": {
      "text/plain": [
       "False"
      ]
     },
     "execution_count": 46,
     "metadata": {},
     "output_type": "execute_result"
    }
   ],
   "source": [
    "4 == 5 "
   ]
  },
  {
   "cell_type": "code",
   "execution_count": 48,
   "id": "984bc8ce-ba12-49dc-bbbc-a417085011ac",
   "metadata": {},
   "outputs": [
    {
     "data": {
      "text/plain": [
       "True"
      ]
     },
     "execution_count": 48,
     "metadata": {},
     "output_type": "execute_result"
    }
   ],
   "source": [
    "4 != 5"
   ]
  },
  {
   "cell_type": "code",
   "execution_count": 50,
   "id": "7776913c-33ac-4bf6-8978-02cb8e8e9aa4",
   "metadata": {},
   "outputs": [
    {
     "data": {
      "text/plain": [
       "False"
      ]
     },
     "execution_count": 50,
     "metadata": {},
     "output_type": "execute_result"
    }
   ],
   "source": [
    "5 != 5"
   ]
  },
  {
   "cell_type": "code",
   "execution_count": 52,
   "id": "7f313a25-93d6-4db8-bd69-aa0c119976fb",
   "metadata": {},
   "outputs": [
    {
     "data": {
      "text/plain": [
       "True"
      ]
     },
     "execution_count": 52,
     "metadata": {},
     "output_type": "execute_result"
    }
   ],
   "source": [
    "3 > 1"
   ]
  },
  {
   "cell_type": "code",
   "execution_count": 54,
   "id": "69ce8537-7533-4e3b-a831-07c9a497156d",
   "metadata": {},
   "outputs": [
    {
     "data": {
      "text/plain": [
       "False"
      ]
     },
     "execution_count": 54,
     "metadata": {},
     "output_type": "execute_result"
    }
   ],
   "source": [
    "3 < 1"
   ]
  },
  {
   "cell_type": "code",
   "execution_count": 56,
   "id": "0c1ca490-858f-47ec-8051-0e4ee1d1ce29",
   "metadata": {},
   "outputs": [
    {
     "data": {
      "text/plain": [
       "True"
      ]
     },
     "execution_count": 56,
     "metadata": {},
     "output_type": "execute_result"
    }
   ],
   "source": [
    "1 < 3"
   ]
  },
  {
   "cell_type": "code",
   "execution_count": 58,
   "id": "72043653-5902-41e2-a4af-198f06ace8c8",
   "metadata": {},
   "outputs": [
    {
     "data": {
      "text/plain": [
       "True"
      ]
     },
     "execution_count": 58,
     "metadata": {},
     "output_type": "execute_result"
    }
   ],
   "source": [
    "5 >= 5 # Is 5 greater than or equal to 5."
   ]
  },
  {
   "cell_type": "markdown",
   "id": "37c8d779-572e-470d-9ff7-3bafed00b57a",
   "metadata": {},
   "source": [
    "### Variables"
   ]
  },
  {
   "cell_type": "code",
   "execution_count": 61,
   "id": "b46a6d8a-579e-4ec0-a3c5-8b3d756d01bb",
   "metadata": {},
   "outputs": [
    {
     "data": {
      "text/plain": [
       "40"
      ]
     },
     "execution_count": 61,
     "metadata": {},
     "output_type": "execute_result"
    }
   ],
   "source": [
    "age = 40\n",
    "age"
   ]
  },
  {
   "cell_type": "code",
   "execution_count": 65,
   "id": "8e214050-8ece-4b16-9c0e-cbd46e89c9f9",
   "metadata": {},
   "outputs": [
    {
     "data": {
      "text/plain": [
       "52"
      ]
     },
     "execution_count": 65,
     "metadata": {},
     "output_type": "execute_result"
    }
   ],
   "source": [
    "age + 3 * 4"
   ]
  },
  {
   "cell_type": "code",
   "execution_count": 69,
   "id": "4b5c8755-7199-48de-9c09-461abf50e693",
   "metadata": {},
   "outputs": [],
   "source": [
    "Name = \"Jameel\""
   ]
  },
  {
   "cell_type": "code",
   "execution_count": 79,
   "id": "b2696ee4-b116-4964-b28f-7c190075dff4",
   "metadata": {},
   "outputs": [
    {
     "name": "stdout",
     "output_type": "stream",
     "text": [
      "Hi Name\n"
     ]
    }
   ],
   "source": [
    "print(\"Hi Name\")"
   ]
  },
  {
   "cell_type": "code",
   "execution_count": 95,
   "id": "a21c91eb-71b3-46f0-a645-47540dcc7a9d",
   "metadata": {},
   "outputs": [],
   "source": [
    "Greet = \"Hi {}\".format(Name)"
   ]
  },
  {
   "cell_type": "code",
   "execution_count": 97,
   "id": "d69c04ca-4408-403e-b57e-2446c4bceb16",
   "metadata": {},
   "outputs": [
    {
     "name": "stdout",
     "output_type": "stream",
     "text": [
      "Hi Jameel\n"
     ]
    }
   ],
   "source": [
    "print(Greet)"
   ]
  },
  {
   "cell_type": "code",
   "execution_count": 101,
   "id": "5b49f83a-f154-4aa6-98b1-238275b5da30",
   "metadata": {},
   "outputs": [
    {
     "name": "stdout",
     "output_type": "stream",
     "text": [
      "8\n",
      "2\n"
     ]
    }
   ],
   "source": [
    "a = 5\n",
    "b = 3\n",
    "c = a + b\n",
    "d = a - b\n",
    "print(c)\n",
    "print(d)"
   ]
  },
  {
   "cell_type": "code",
   "execution_count": 107,
   "id": "64b73eb4-7e1d-4c53-a1b4-821bdf8ad6ae",
   "metadata": {},
   "outputs": [
    {
     "name": "stdin",
     "output_type": "stream",
     "text": [
      "Enter your name Mohammed Jameel\n"
     ]
    }
   ],
   "source": [
    "Name = input(\"Enter your name\")\n"
   ]
  },
  {
   "cell_type": "code",
   "execution_count": 115,
   "id": "c4d935ec-8781-4a8a-b741-dc0beb60c968",
   "metadata": {},
   "outputs": [
    {
     "name": "stdin",
     "output_type": "stream",
     "text": [
      " Mohammed\n"
     ]
    }
   ],
   "source": [
    "name = input(\"\")"
   ]
  },
  {
   "cell_type": "code",
   "execution_count": 119,
   "id": "d44f5180-a539-4782-a731-b9270f8c1d01",
   "metadata": {},
   "outputs": [
    {
     "name": "stdin",
     "output_type": "stream",
     "text": [
      " 26\n"
     ]
    }
   ],
   "source": [
    "age = int(input(\"\"))"
   ]
  },
  {
   "cell_type": "code",
   "execution_count": 125,
   "id": "c5b58679-8526-47c1-96f1-3a40fa67d996",
   "metadata": {},
   "outputs": [
    {
     "name": "stdout",
     "output_type": "stream",
     "text": [
      "Your name is Mohammed and you are 26 years old.\n"
     ]
    }
   ],
   "source": [
    "info = print(\"Your name is {} and you are {} years old.\".format(name,age))"
   ]
  },
  {
   "cell_type": "code",
   "execution_count": 127,
   "id": "43bd4e11-2063-49d8-ade7-0306cb8a2386",
   "metadata": {},
   "outputs": [
    {
     "name": "stdin",
     "output_type": "stream",
     "text": [
      " Mohammed Jameel\n",
      " 26\n"
     ]
    },
    {
     "name": "stdout",
     "output_type": "stream",
     "text": [
      "Your name is Mohammed Jameel and you are 26 years old.\n"
     ]
    }
   ],
   "source": [
    "name = input()\n",
    "age = input()\n",
    "info = print(\"Your name is {} and you are {} years old.\".format(name,age))"
   ]
  },
  {
   "cell_type": "markdown",
   "id": "f62690ea-e287-4641-a6a0-e6859ffd112c",
   "metadata": {},
   "source": [
    "#### Data Structures"
   ]
  },
  {
   "cell_type": "code",
   "execution_count": 131,
   "id": "bbe07ce6-8417-4b32-b000-d339a38c4a6e",
   "metadata": {},
   "outputs": [],
   "source": [
    "# list , tuple, dictionaries, set"
   ]
  },
  {
   "cell_type": "markdown",
   "id": "9aa980d1-4f4b-463c-bffa-b11d209cf5e0",
   "metadata": {},
   "source": [
    "### list"
   ]
  },
  {
   "cell_type": "code",
   "execution_count": 134,
   "id": "d53339d6-8e97-4311-bb79-0ab9f296b027",
   "metadata": {},
   "outputs": [],
   "source": [
    "list = [1,2,3,4,5]"
   ]
  },
  {
   "cell_type": "code",
   "execution_count": 136,
   "id": "aa892883-791c-4472-84a5-395ddd8da76e",
   "metadata": {},
   "outputs": [
    {
     "name": "stdout",
     "output_type": "stream",
     "text": [
      "[1, 2, 3, 4, 5]\n"
     ]
    }
   ],
   "source": [
    "print(list)"
   ]
  },
  {
   "cell_type": "code",
   "execution_count": 140,
   "id": "9b091dc6-3b6d-4f50-a5ae-03d0287ebd60",
   "metadata": {},
   "outputs": [
    {
     "name": "stdout",
     "output_type": "stream",
     "text": [
      "<class 'list'>\n"
     ]
    }
   ],
   "source": [
    "print(type(list))"
   ]
  },
  {
   "cell_type": "code",
   "execution_count": 144,
   "id": "c1a3722c-ebb8-4fd0-93b6-11d9d1bac47a",
   "metadata": {},
   "outputs": [],
   "source": [
    "fruits = [\"apple\",\"banana\",\"orange\",\"mango\",\"grapes\"]"
   ]
  },
  {
   "cell_type": "code",
   "execution_count": 146,
   "id": "1510d21f-7d1d-4863-9b6f-47747346580f",
   "metadata": {},
   "outputs": [],
   "source": [
    "comb = [\"apple\",24,\"banana\",22,13,\"grapes\"]"
   ]
  },
  {
   "cell_type": "code",
   "execution_count": 148,
   "id": "65e92b07-6fa8-4268-8643-de9d109b317f",
   "metadata": {},
   "outputs": [
    {
     "data": {
      "text/plain": [
       "['apple', 'banana', 'orange', 'mango', 'grapes']"
      ]
     },
     "execution_count": 148,
     "metadata": {},
     "output_type": "execute_result"
    }
   ],
   "source": [
    "fruits"
   ]
  },
  {
   "cell_type": "code",
   "execution_count": 150,
   "id": "295e8fef-d45a-4f21-b0a2-b6012a4a4a94",
   "metadata": {},
   "outputs": [
    {
     "name": "stdout",
     "output_type": "stream",
     "text": [
      "['apple', 24, 'banana', 22, 13, 'grapes']\n"
     ]
    }
   ],
   "source": [
    "print(comb)"
   ]
  },
  {
   "cell_type": "code",
   "execution_count": 152,
   "id": "7c1e77ab-9d80-418b-9eeb-de2e579aff48",
   "metadata": {},
   "outputs": [
    {
     "name": "stdout",
     "output_type": "stream",
     "text": [
      "['apple', 'banana', 'orange', 'mango', 'grapes']\n"
     ]
    }
   ],
   "source": [
    "print(fruits)"
   ]
  },
  {
   "cell_type": "code",
   "execution_count": 156,
   "id": "8c430518-386e-4690-9d8b-c0b398eba832",
   "metadata": {},
   "outputs": [],
   "source": [
    "list_1 = [1,2,3,4,5]\n",
    "list_2 = [2,1,3,5,4]"
   ]
  },
  {
   "cell_type": "code",
   "execution_count": 158,
   "id": "b8b92804-c466-47e7-a46d-dc9b6187b643",
   "metadata": {},
   "outputs": [
    {
     "name": "stdout",
     "output_type": "stream",
     "text": [
      "1\n"
     ]
    }
   ],
   "source": [
    "print(list_1[0])"
   ]
  },
  {
   "cell_type": "code",
   "execution_count": 160,
   "id": "734a088e-a221-40ca-98a3-27282fa37d63",
   "metadata": {},
   "outputs": [
    {
     "name": "stdout",
     "output_type": "stream",
     "text": [
      "4\n"
     ]
    }
   ],
   "source": [
    "print(list_2[-1])"
   ]
  },
  {
   "cell_type": "code",
   "execution_count": 162,
   "id": "c0257304-1f65-489a-b3b0-30ac6ba1d666",
   "metadata": {},
   "outputs": [
    {
     "data": {
      "text/plain": [
       "'banana'"
      ]
     },
     "execution_count": 162,
     "metadata": {},
     "output_type": "execute_result"
    }
   ],
   "source": [
    "comb[2]"
   ]
  },
  {
   "cell_type": "code",
   "execution_count": 164,
   "id": "3acfda6a-3b96-4d06-9237-e2e05c6be585",
   "metadata": {},
   "outputs": [
    {
     "data": {
      "text/plain": [
       "['banana', 22, 13, 'grapes']"
      ]
     },
     "execution_count": 164,
     "metadata": {},
     "output_type": "execute_result"
    }
   ],
   "source": [
    "comb[2:]"
   ]
  },
  {
   "cell_type": "code",
   "execution_count": 166,
   "id": "2fe073e1-cce8-498a-a9f7-0699860c4de9",
   "metadata": {},
   "outputs": [
    {
     "data": {
      "text/plain": [
       "['apple', 24, 'banana', 22, 13, 'grapes']"
      ]
     },
     "execution_count": 166,
     "metadata": {},
     "output_type": "execute_result"
    }
   ],
   "source": [
    "comb[::]"
   ]
  },
  {
   "cell_type": "code",
   "execution_count": 172,
   "id": "7dbf4cf9-b641-490d-af0c-f3960a8570e5",
   "metadata": {},
   "outputs": [],
   "source": [
    "c=[\"j\",\"k\",\"h\",\"0\",2]"
   ]
  },
  {
   "cell_type": "code",
   "execution_count": 174,
   "id": "7138ebfb-01c8-4c37-9005-c998c693f1d0",
   "metadata": {},
   "outputs": [
    {
     "data": {
      "text/plain": [
       "['j', 'k']"
      ]
     },
     "execution_count": 174,
     "metadata": {},
     "output_type": "execute_result"
    }
   ],
   "source": [
    "c[0:2]"
   ]
  },
  {
   "cell_type": "code",
   "execution_count": 176,
   "id": "93a8deac-2496-4604-8bdd-d74818b9f968",
   "metadata": {},
   "outputs": [
    {
     "data": {
      "text/plain": [
       "['j', 'k', 'h', '0', 2]"
      ]
     },
     "execution_count": 176,
     "metadata": {},
     "output_type": "execute_result"
    }
   ],
   "source": [
    "c[0:10]"
   ]
  },
  {
   "cell_type": "code",
   "execution_count": 192,
   "id": "74d9d891-1275-4c4a-8c4c-782e67c45fb3",
   "metadata": {},
   "outputs": [],
   "source": [
    "complexList = [[1,2],[\"apple\",\"banana\"],16,5,18,['x','y','z']]"
   ]
  },
  {
   "cell_type": "code",
   "execution_count": 194,
   "id": "ad24d435-0702-4b28-8867-2dd8e0c2a2f4",
   "metadata": {},
   "outputs": [
    {
     "data": {
      "text/plain": [
       "[[1, 2], ['apple', 'banana'], 16, 5, 18, ['x', 'y', 'z']]"
      ]
     },
     "execution_count": 194,
     "metadata": {},
     "output_type": "execute_result"
    }
   ],
   "source": [
    "complexList"
   ]
  },
  {
   "cell_type": "code",
   "execution_count": 198,
   "id": "5675d015-bca3-4339-b9af-5a3b7fa98325",
   "metadata": {},
   "outputs": [
    {
     "name": "stdout",
     "output_type": "stream",
     "text": [
      "[1, 2]\n",
      "['apple', 'banana']\n",
      "16\n",
      "5\n",
      "18\n",
      "['x', 'y', 'z']\n"
     ]
    }
   ],
   "source": [
    "for i in complexList:\n",
    "    print(i)"
   ]
  },
  {
   "cell_type": "code",
   "execution_count": 202,
   "id": "18365d54-f649-453e-94cf-93b88d9500de",
   "metadata": {},
   "outputs": [
    {
     "data": {
      "text/plain": [
       "['apple', 'banana']"
      ]
     },
     "execution_count": 202,
     "metadata": {},
     "output_type": "execute_result"
    }
   ],
   "source": [
    "complexList[1]"
   ]
  },
  {
   "cell_type": "code",
   "execution_count": 206,
   "id": "2f1a9aef-2070-4251-9190-b43ae9d3b0f4",
   "metadata": {},
   "outputs": [
    {
     "data": {
      "text/plain": [
       "'apple'"
      ]
     },
     "execution_count": 206,
     "metadata": {},
     "output_type": "execute_result"
    }
   ],
   "source": [
    "complexList[1][0]"
   ]
  },
  {
   "cell_type": "code",
   "execution_count": 208,
   "id": "3a509d9c-26bc-42c0-a3a4-ff3deb306e1a",
   "metadata": {},
   "outputs": [
    {
     "data": {
      "text/plain": [
       "'x'"
      ]
     },
     "execution_count": 208,
     "metadata": {},
     "output_type": "execute_result"
    }
   ],
   "source": [
    "complexList[5][0]"
   ]
  },
  {
   "cell_type": "code",
   "execution_count": 210,
   "id": "0a18e407-1e31-425f-822a-368baa3e17b3",
   "metadata": {},
   "outputs": [
    {
     "data": {
      "text/plain": [
       "'z'"
      ]
     },
     "execution_count": 210,
     "metadata": {},
     "output_type": "execute_result"
    }
   ],
   "source": [
    "complexList[5][2]"
   ]
  },
  {
   "cell_type": "code",
   "execution_count": 212,
   "id": "a743b073-b6aa-48ca-9a61-ad38bd06566c",
   "metadata": {},
   "outputs": [
    {
     "data": {
      "text/plain": [
       "18"
      ]
     },
     "execution_count": 212,
     "metadata": {},
     "output_type": "execute_result"
    }
   ],
   "source": [
    "complexList[4]"
   ]
  },
  {
   "cell_type": "markdown",
   "id": "c4abf408-8404-443d-be77-9a5c3e3bd013",
   "metadata": {},
   "source": [
    "### list Operators (Build in)"
   ]
  },
  {
   "cell_type": "code",
   "execution_count": 215,
   "id": "0d6b7282-8c79-4751-8ee5-c9530ad6d85c",
   "metadata": {},
   "outputs": [],
   "source": [
    "comb.append('mango') # Adding an element"
   ]
  },
  {
   "cell_type": "code",
   "execution_count": 217,
   "id": "84998fc0-5dc4-4e40-be3b-49b617ca08d2",
   "metadata": {},
   "outputs": [
    {
     "data": {
      "text/plain": [
       "['apple', 24, 'banana', 22, 13, 'grapes', 'mango']"
      ]
     },
     "execution_count": 217,
     "metadata": {},
     "output_type": "execute_result"
    }
   ],
   "source": [
    "comb"
   ]
  },
  {
   "cell_type": "code",
   "execution_count": 219,
   "id": "4c9be21a-b2d9-4b28-86cf-0affdcc5c997",
   "metadata": {},
   "outputs": [],
   "source": [
    "comb.append('apple2')"
   ]
  },
  {
   "cell_type": "code",
   "execution_count": 221,
   "id": "2cc9b3e5-b8cd-4911-bda9-30ceb059c4f5",
   "metadata": {},
   "outputs": [
    {
     "data": {
      "text/plain": [
       "['apple', 24, 'banana', 22, 13, 'grapes', 'mango', 'apple2']"
      ]
     },
     "execution_count": 221,
     "metadata": {},
     "output_type": "execute_result"
    }
   ],
   "source": [
    "comb"
   ]
  },
  {
   "cell_type": "code",
   "execution_count": 223,
   "id": "a19cea7b-dc7e-4377-96d6-62a228115cbb",
   "metadata": {},
   "outputs": [],
   "source": [
    "comb.insert(2,\"blueberry\")"
   ]
  },
  {
   "cell_type": "code",
   "execution_count": 225,
   "id": "4471c642-e799-45d6-bf68-a4e71fe1b403",
   "metadata": {},
   "outputs": [
    {
     "data": {
      "text/plain": [
       "['apple', 24, 'blueberry', 'banana', 22, 13, 'grapes', 'mango', 'apple2']"
      ]
     },
     "execution_count": 225,
     "metadata": {},
     "output_type": "execute_result"
    }
   ],
   "source": [
    "comb"
   ]
  },
  {
   "cell_type": "code",
   "execution_count": 227,
   "id": "27aeef42-89c8-49a7-95a0-0801a436431e",
   "metadata": {},
   "outputs": [],
   "source": [
    "comb.remove(13)"
   ]
  },
  {
   "cell_type": "code",
   "execution_count": 229,
   "id": "1f03aaf1-c6fc-446e-9922-921d0b4e0b86",
   "metadata": {},
   "outputs": [
    {
     "data": {
      "text/plain": [
       "['apple', 24, 'blueberry', 'banana', 22, 'grapes', 'mango', 'apple2']"
      ]
     },
     "execution_count": 229,
     "metadata": {},
     "output_type": "execute_result"
    }
   ],
   "source": [
    "comb"
   ]
  },
  {
   "cell_type": "code",
   "execution_count": 231,
   "id": "31a539ec-7556-42c1-a04a-20b36393ae0b",
   "metadata": {},
   "outputs": [],
   "source": [
    "comb.remove(\"apple\")"
   ]
  },
  {
   "cell_type": "code",
   "execution_count": 233,
   "id": "04f15400-bcaf-4102-844f-910bae8cb377",
   "metadata": {},
   "outputs": [
    {
     "data": {
      "text/plain": [
       "[24, 'blueberry', 'banana', 22, 'grapes', 'mango', 'apple2']"
      ]
     },
     "execution_count": 233,
     "metadata": {},
     "output_type": "execute_result"
    }
   ],
   "source": [
    "comb"
   ]
  },
  {
   "cell_type": "code",
   "execution_count": 237,
   "id": "a035dbc0-2054-42bd-ac2b-8f096bbeb676",
   "metadata": {},
   "outputs": [],
   "source": [
    "comb.insert(0,\"apple\")"
   ]
  },
  {
   "cell_type": "code",
   "execution_count": 251,
   "id": "7c89ad76-12e0-43cd-be23-80b736b9ad51",
   "metadata": {},
   "outputs": [
    {
     "data": {
      "text/plain": [
       "['apple', 24, 'blueberry', 'banana', 22, 'grapes']"
      ]
     },
     "execution_count": 251,
     "metadata": {},
     "output_type": "execute_result"
    }
   ],
   "source": [
    "comb"
   ]
  },
  {
   "cell_type": "code",
   "execution_count": 253,
   "id": "533779be-f254-4f08-b7fb-2779f4197956",
   "metadata": {},
   "outputs": [
    {
     "ename": "ValueError",
     "evalue": "list.remove(x): x not in list",
     "output_type": "error",
     "traceback": [
      "\u001b[1;31m---------------------------------------------------------------------------\u001b[0m",
      "\u001b[1;31mValueError\u001b[0m                                Traceback (most recent call last)",
      "Cell \u001b[1;32mIn[253], line 1\u001b[0m\n\u001b[1;32m----> 1\u001b[0m comb\u001b[38;5;241m.\u001b[39mremove(\u001b[38;5;124m\"\u001b[39m\u001b[38;5;124mjameel\u001b[39m\u001b[38;5;124m\"\u001b[39m)\n",
      "\u001b[1;31mValueError\u001b[0m: list.remove(x): x not in list"
     ]
    }
   ],
   "source": [
    "comb.remove(\"jameel\")"
   ]
  },
  {
   "cell_type": "code",
   "execution_count": 255,
   "id": "653117b9-dafa-44ad-8700-b780a8012a7d",
   "metadata": {},
   "outputs": [
    {
     "data": {
      "text/plain": [
       "'grapes'"
      ]
     },
     "execution_count": 255,
     "metadata": {},
     "output_type": "execute_result"
    }
   ],
   "source": [
    "# pop\n",
    "comb.pop() # removes the last element and displays the same as output"
   ]
  },
  {
   "cell_type": "code",
   "execution_count": 257,
   "id": "53e620cd-8905-4962-af8e-1c474638cb9f",
   "metadata": {},
   "outputs": [
    {
     "data": {
      "text/plain": [
       "['apple', 24, 'blueberry', 'banana', 22]"
      ]
     },
     "execution_count": 257,
     "metadata": {},
     "output_type": "execute_result"
    }
   ],
   "source": [
    "comb"
   ]
  },
  {
   "cell_type": "code",
   "execution_count": 261,
   "id": "246ff3e6-bad1-490a-870c-d7864ca14afe",
   "metadata": {},
   "outputs": [],
   "source": [
    "comb.append([\"grapess\",\"mango2\"])"
   ]
  },
  {
   "cell_type": "code",
   "execution_count": 263,
   "id": "44e03a7b-fc29-4265-b690-d1f76d13a29b",
   "metadata": {},
   "outputs": [
    {
     "data": {
      "text/plain": [
       "['apple', 24, 'blueberry', 'banana', 22, ['grapess', 'mango2']]"
      ]
     },
     "execution_count": 263,
     "metadata": {},
     "output_type": "execute_result"
    }
   ],
   "source": [
    "comb"
   ]
  },
  {
   "cell_type": "code",
   "execution_count": 269,
   "id": "27b5ac92-126f-4143-a88f-c7211fc2ec57",
   "metadata": {},
   "outputs": [
    {
     "data": {
      "text/plain": [
       "['grapess', 'mango2']"
      ]
     },
     "execution_count": 269,
     "metadata": {},
     "output_type": "execute_result"
    }
   ],
   "source": [
    "comb.pop()"
   ]
  },
  {
   "cell_type": "code",
   "execution_count": 271,
   "id": "74368463-f4c4-44d3-8d90-4e5b0b24a600",
   "metadata": {},
   "outputs": [
    {
     "data": {
      "text/plain": [
       "['apple', 24, 'blueberry', 'banana', 22]"
      ]
     },
     "execution_count": 271,
     "metadata": {},
     "output_type": "execute_result"
    }
   ],
   "source": [
    "comb"
   ]
  },
  {
   "cell_type": "code",
   "execution_count": 277,
   "id": "4427459c-f909-430d-8f6b-33b225de0418",
   "metadata": {},
   "outputs": [],
   "source": [
    "comb.append(13)"
   ]
  },
  {
   "cell_type": "code",
   "execution_count": 279,
   "id": "04b1df5c-c2c0-4730-af94-604d5fbc95aa",
   "metadata": {},
   "outputs": [
    {
     "data": {
      "text/plain": [
       "['apple', 24, 'blueberry', 'banana', 22, 13, 13]"
      ]
     },
     "execution_count": 279,
     "metadata": {},
     "output_type": "execute_result"
    }
   ],
   "source": [
    "comb"
   ]
  },
  {
   "cell_type": "code",
   "execution_count": 281,
   "id": "4243672e-9b20-41db-8748-ab2355d1be31",
   "metadata": {},
   "outputs": [],
   "source": [
    "comb.remove(13)"
   ]
  },
  {
   "cell_type": "code",
   "execution_count": 283,
   "id": "60fc1fd5-db18-43f1-88f2-c06716870ae1",
   "metadata": {},
   "outputs": [
    {
     "data": {
      "text/plain": [
       "['apple', 24, 'blueberry', 'banana', 22, 13]"
      ]
     },
     "execution_count": 283,
     "metadata": {},
     "output_type": "execute_result"
    }
   ],
   "source": [
    "comb"
   ]
  },
  {
   "cell_type": "code",
   "execution_count": 285,
   "id": "d7b7a668-fdc3-4363-8c2e-5e8f20b22c44",
   "metadata": {},
   "outputs": [],
   "source": [
    "comb.insert(3,13)"
   ]
  },
  {
   "cell_type": "code",
   "execution_count": 287,
   "id": "37c942f9-d8cb-41af-8278-a10dad15e3d9",
   "metadata": {},
   "outputs": [
    {
     "data": {
      "text/plain": [
       "['apple', 24, 'blueberry', 13, 'banana', 22, 13]"
      ]
     },
     "execution_count": 287,
     "metadata": {},
     "output_type": "execute_result"
    }
   ],
   "source": [
    "comb"
   ]
  },
  {
   "cell_type": "code",
   "execution_count": 289,
   "id": "57080d90-2a8d-424a-872b-902e32396fa5",
   "metadata": {},
   "outputs": [],
   "source": [
    "comb.remove(13)"
   ]
  },
  {
   "cell_type": "code",
   "execution_count": 291,
   "id": "9699e8e2-c08b-4d70-9684-3a616adffaa2",
   "metadata": {},
   "outputs": [
    {
     "data": {
      "text/plain": [
       "['apple', 24, 'blueberry', 'banana', 22, 13]"
      ]
     },
     "execution_count": 291,
     "metadata": {},
     "output_type": "execute_result"
    }
   ],
   "source": [
    "comb"
   ]
  },
  {
   "cell_type": "code",
   "execution_count": 295,
   "id": "33b1df18-3d9c-403b-a4a2-b08a57fc120a",
   "metadata": {},
   "outputs": [],
   "source": [
    "comb.append(10)\n",
    "comb.insert(2,10)"
   ]
  },
  {
   "cell_type": "code",
   "execution_count": 297,
   "id": "ee7e7f79-6e5b-4965-a3d8-c98242cfc7c9",
   "metadata": {},
   "outputs": [
    {
     "data": {
      "text/plain": [
       "['apple', 24, 10, 'blueberry', 'banana', 22, 13, 10, 10]"
      ]
     },
     "execution_count": 297,
     "metadata": {},
     "output_type": "execute_result"
    }
   ],
   "source": [
    "comb"
   ]
  },
  {
   "cell_type": "code",
   "execution_count": 299,
   "id": "3ffede4e-ef38-4f4c-b0d5-1f07499e638a",
   "metadata": {},
   "outputs": [],
   "source": [
    "comb.remove(10)"
   ]
  },
  {
   "cell_type": "code",
   "execution_count": 301,
   "id": "fe19b863-afac-4807-ab1f-1181a41498bf",
   "metadata": {},
   "outputs": [
    {
     "data": {
      "text/plain": [
       "['apple', 24, 'blueberry', 'banana', 22, 13, 10, 10]"
      ]
     },
     "execution_count": 301,
     "metadata": {},
     "output_type": "execute_result"
    }
   ],
   "source": [
    "comb"
   ]
  },
  {
   "cell_type": "code",
   "execution_count": 303,
   "id": "d40db6e3-e831-409b-ba69-0baf1a004868",
   "metadata": {},
   "outputs": [
    {
     "data": {
      "text/plain": [
       "['apple', 24, 'blueberry', 'banana', 22, 13, 10, 10]"
      ]
     },
     "execution_count": 303,
     "metadata": {},
     "output_type": "execute_result"
    }
   ],
   "source": [
    "comb"
   ]
  },
  {
   "cell_type": "code",
   "execution_count": 313,
   "id": "c1fe202c-c279-496a-b717-9d68546cd702",
   "metadata": {},
   "outputs": [],
   "source": [
    "comb.clear() #Deletes all elements in the list"
   ]
  },
  {
   "cell_type": "code",
   "execution_count": 315,
   "id": "c532bb82-d386-4e69-86c5-c8bf8aafdb7d",
   "metadata": {},
   "outputs": [
    {
     "data": {
      "text/plain": [
       "[]"
      ]
     },
     "execution_count": 315,
     "metadata": {},
     "output_type": "execute_result"
    }
   ],
   "source": [
    "comb"
   ]
  },
  {
   "cell_type": "code",
   "execution_count": 317,
   "id": "7f5b1aaf-34b1-407a-b365-862465d56ceb",
   "metadata": {},
   "outputs": [],
   "source": [
    "comb = ['apple',24,'banana',23,13,'grapes']"
   ]
  },
  {
   "cell_type": "code",
   "execution_count": 319,
   "id": "89f9f829-dca1-4537-99b3-7843ebe61081",
   "metadata": {},
   "outputs": [
    {
     "data": {
      "text/plain": [
       "['apple', 24, 'banana', 23, 13, 'grapes']"
      ]
     },
     "execution_count": 319,
     "metadata": {},
     "output_type": "execute_result"
    }
   ],
   "source": [
    "comb"
   ]
  },
  {
   "cell_type": "code",
   "execution_count": 321,
   "id": "f502f467-164c-4059-84f9-7f2cb07c6a65",
   "metadata": {},
   "outputs": [
    {
     "data": {
      "text/plain": [
       "6"
      ]
     },
     "execution_count": 321,
     "metadata": {},
     "output_type": "execute_result"
    }
   ],
   "source": [
    "len(comb) # Number of elements in the list"
   ]
  },
  {
   "cell_type": "code",
   "execution_count": 340,
   "id": "d0a691b4-466c-4cb6-a6a0-696d03f45c13",
   "metadata": {},
   "outputs": [
    {
     "data": {
      "text/plain": [
       "13"
      ]
     },
     "execution_count": 340,
     "metadata": {},
     "output_type": "execute_result"
    }
   ],
   "source": [
    "comb[-2]"
   ]
  },
  {
   "cell_type": "markdown",
   "id": "78dcbd50-aa6a-4850-ade5-6e9a9f8c0fda",
   "metadata": {},
   "source": [
    "### Tuples"
   ]
  },
  {
   "cell_type": "code",
   "execution_count": 324,
   "id": "e3d0c69b-c8a1-42cb-b0f0-874560c4e7c3",
   "metadata": {},
   "outputs": [],
   "source": [
    "tuple1 = (1,5,9)"
   ]
  },
  {
   "cell_type": "code",
   "execution_count": 328,
   "id": "a5d1dcb7-48c5-44d2-96a6-e2c6c0c13173",
   "metadata": {},
   "outputs": [
    {
     "data": {
      "text/plain": [
       "(1, 5, 9)"
      ]
     },
     "execution_count": 328,
     "metadata": {},
     "output_type": "execute_result"
    }
   ],
   "source": [
    "tuple1"
   ]
  },
  {
   "cell_type": "code",
   "execution_count": 330,
   "id": "79f8ba5a-7952-4f97-8a9d-a80c9b3ebc76",
   "metadata": {},
   "outputs": [],
   "source": [
    "# Indexing, Build in methods - Change the elements "
   ]
  },
  {
   "cell_type": "code",
   "execution_count": 332,
   "id": "1de2bb1b-47c0-4918-8547-41c3a19750d1",
   "metadata": {},
   "outputs": [],
   "source": [
    "fruits = ('apple','banana','orange','grapes')"
   ]
  },
  {
   "cell_type": "code",
   "execution_count": 334,
   "id": "62da9003-3975-4825-9b3f-6426f358c1c4",
   "metadata": {},
   "outputs": [
    {
     "data": {
      "text/plain": [
       "('apple', 'banana', 'orange', 'grapes')"
      ]
     },
     "execution_count": 334,
     "metadata": {},
     "output_type": "execute_result"
    }
   ],
   "source": [
    "fruits"
   ]
  },
  {
   "cell_type": "code",
   "execution_count": 336,
   "id": "f64a6192-da02-43cc-8a5b-f067c118988c",
   "metadata": {},
   "outputs": [
    {
     "data": {
      "text/plain": [
       "'apple'"
      ]
     },
     "execution_count": 336,
     "metadata": {},
     "output_type": "execute_result"
    }
   ],
   "source": [
    "fruits[0]"
   ]
  },
  {
   "cell_type": "code",
   "execution_count": 338,
   "id": "085209e3-a3c6-427a-8004-f7d92aa1db0b",
   "metadata": {},
   "outputs": [
    {
     "data": {
      "text/plain": [
       "('apple', 'banana')"
      ]
     },
     "execution_count": 338,
     "metadata": {},
     "output_type": "execute_result"
    }
   ],
   "source": [
    "fruits[0:2]"
   ]
  },
  {
   "cell_type": "code",
   "execution_count": 342,
   "id": "79c7dacd-abff-4ecf-b71d-2f562b6190e7",
   "metadata": {},
   "outputs": [
    {
     "data": {
      "text/plain": [
       "'grapes'"
      ]
     },
     "execution_count": 342,
     "metadata": {},
     "output_type": "execute_result"
    }
   ],
   "source": [
    "fruits[-1]"
   ]
  },
  {
   "cell_type": "markdown",
   "id": "5a292a4d-8dfb-4232-835a-c050bc7b16cf",
   "metadata": {},
   "source": [
    "## list cocatenation"
   ]
  },
  {
   "cell_type": "code",
   "execution_count": 347,
   "id": "598a0f6a-fe77-4f9e-9e63-f59235a28ce1",
   "metadata": {},
   "outputs": [
    {
     "name": "stdout",
     "output_type": "stream",
     "text": [
      "['apple', 24, 'banana', 23, 13, 'grapes']\n",
      "[1, 2, 3, 4, 5]\n"
     ]
    }
   ],
   "source": [
    "print(comb)\n",
    "print(list)"
   ]
  },
  {
   "cell_type": "code",
   "execution_count": 351,
   "id": "ba32b373-8e18-487a-8690-bbe34723dda3",
   "metadata": {},
   "outputs": [],
   "source": [
    "merge = comb+list"
   ]
  },
  {
   "cell_type": "code",
   "execution_count": 353,
   "id": "5df2f8ac-a020-4f73-bd78-229c15a42213",
   "metadata": {},
   "outputs": [
    {
     "data": {
      "text/plain": [
       "['apple', 24, 'banana', 23, 13, 'grapes', 1, 2, 3, 4, 5]"
      ]
     },
     "execution_count": 353,
     "metadata": {},
     "output_type": "execute_result"
    }
   ],
   "source": [
    "merge"
   ]
  },
  {
   "cell_type": "code",
   "execution_count": 355,
   "id": "85e3d2ec-a1c4-4cd8-8516-c95c8320b5ed",
   "metadata": {},
   "outputs": [],
   "source": [
    "merge_2 = list + comb"
   ]
  },
  {
   "cell_type": "code",
   "execution_count": 357,
   "id": "3da6f918-92c6-4629-858a-5a105e8717b2",
   "metadata": {},
   "outputs": [
    {
     "data": {
      "text/plain": [
       "[1, 2, 3, 4, 5, 'apple', 24, 'banana', 23, 13, 'grapes']"
      ]
     },
     "execution_count": 357,
     "metadata": {},
     "output_type": "execute_result"
    }
   ],
   "source": [
    "merge_2"
   ]
  },
  {
   "cell_type": "code",
   "execution_count": 359,
   "id": "cd895581-a412-457b-89ae-33e27809f9bf",
   "metadata": {},
   "outputs": [
    {
     "name": "stdout",
     "output_type": "stream",
     "text": [
      "['apple', 24, 'banana', 23, 13, 'grapes', 1, 2, 3, 4, 5]\n"
     ]
    },
    {
     "data": {
      "text/plain": [
       "[1, 2, 3, 4, 5, 'apple', 24, 'banana', 23, 13, 'grapes']"
      ]
     },
     "execution_count": 359,
     "metadata": {},
     "output_type": "execute_result"
    }
   ],
   "source": [
    "print(merge)\n",
    "merge_2"
   ]
  },
  {
   "cell_type": "code",
   "execution_count": 361,
   "id": "25f2fbf9-5b7d-41d3-a438-581efb8ce391",
   "metadata": {},
   "outputs": [
    {
     "data": {
      "text/plain": [
       "list"
      ]
     },
     "execution_count": 361,
     "metadata": {},
     "output_type": "execute_result"
    }
   ],
   "source": [
    "type(merge)"
   ]
  },
  {
   "cell_type": "code",
   "execution_count": 363,
   "id": "379ac5e0-634a-4958-9661-5ad56113da8a",
   "metadata": {},
   "outputs": [
    {
     "data": {
      "text/plain": [
       "list"
      ]
     },
     "execution_count": 363,
     "metadata": {},
     "output_type": "execute_result"
    }
   ],
   "source": [
    "type(merge_2)"
   ]
  },
  {
   "cell_type": "code",
   "execution_count": 370,
   "id": "fea15419-92b6-4a0c-95e9-119cc7e4cfd2",
   "metadata": {},
   "outputs": [],
   "source": [
    "mer_tuple = fruits + tuple1"
   ]
  },
  {
   "cell_type": "code",
   "execution_count": 372,
   "id": "60f1df37-9909-4539-b5d1-531b30c62cd9",
   "metadata": {},
   "outputs": [
    {
     "data": {
      "text/plain": [
       "('apple', 'banana', 'orange', 'grapes', 1, 5, 9)"
      ]
     },
     "execution_count": 372,
     "metadata": {},
     "output_type": "execute_result"
    }
   ],
   "source": [
    "mer_tuple"
   ]
  },
  {
   "cell_type": "code",
   "execution_count": 376,
   "id": "8cde1f6c-1421-4cf0-a074-34e467912c37",
   "metadata": {},
   "outputs": [
    {
     "data": {
      "text/plain": [
       "('apple',\n",
       " 'banana',\n",
       " 'orange',\n",
       " 'grapes',\n",
       " 1,\n",
       " 5,\n",
       " 9,\n",
       " 'apple',\n",
       " 'banana',\n",
       " 'orange',\n",
       " 'grapes',\n",
       " 1,\n",
       " 5,\n",
       " 9,\n",
       " 'apple',\n",
       " 'banana',\n",
       " 'orange',\n",
       " 'grapes',\n",
       " 1,\n",
       " 5,\n",
       " 9)"
      ]
     },
     "execution_count": 376,
     "metadata": {},
     "output_type": "execute_result"
    }
   ],
   "source": [
    "repeated_tuple= mer_tuple * 3\n",
    "repeated_tuple"
   ]
  },
  {
   "cell_type": "code",
   "execution_count": 384,
   "id": "573daabc-4986-4a0c-aae6-3a10a2e42929",
   "metadata": {},
   "outputs": [
    {
     "data": {
      "text/plain": [
       "21"
      ]
     },
     "execution_count": 384,
     "metadata": {},
     "output_type": "execute_result"
    }
   ],
   "source": [
    "len(repeated_tuple) # Number of elements in the tuple"
   ]
  },
  {
   "cell_type": "code",
   "execution_count": 386,
   "id": "0c6a2590-5c82-45f0-9749-fa141bc870b7",
   "metadata": {},
   "outputs": [
    {
     "data": {
      "text/plain": [
       "0"
      ]
     },
     "execution_count": 386,
     "metadata": {},
     "output_type": "execute_result"
    }
   ],
   "source": [
    "repeated_tuple.count('grape') # count of a specific element"
   ]
  },
  {
   "cell_type": "code",
   "execution_count": 388,
   "id": "95b4508c-a54a-4da1-8008-7f7c1410d8d0",
   "metadata": {},
   "outputs": [
    {
     "data": {
      "text/plain": [
       "3"
      ]
     },
     "execution_count": 388,
     "metadata": {},
     "output_type": "execute_result"
    }
   ],
   "source": [
    "repeated_tuple.count('grapes') # count of a specific element"
   ]
  },
  {
   "cell_type": "code",
   "execution_count": 390,
   "id": "2563eb94-ef4f-4692-84ae-d593d46e1ba5",
   "metadata": {},
   "outputs": [
    {
     "data": {
      "text/plain": [
       "1"
      ]
     },
     "execution_count": 390,
     "metadata": {},
     "output_type": "execute_result"
    }
   ],
   "source": [
    "min(tuple1)"
   ]
  },
  {
   "cell_type": "code",
   "execution_count": 392,
   "id": "0c9c6200-a35f-490f-9789-5c7d25837a4a",
   "metadata": {},
   "outputs": [
    {
     "data": {
      "text/plain": [
       "9"
      ]
     },
     "execution_count": 392,
     "metadata": {},
     "output_type": "execute_result"
    }
   ],
   "source": [
    "max(tuple1)"
   ]
  },
  {
   "cell_type": "code",
   "execution_count": 394,
   "id": "5b98c9c5-ff3d-4616-8b08-549d92c9e0d9",
   "metadata": {},
   "outputs": [
    {
     "data": {
      "text/plain": [
       "15"
      ]
     },
     "execution_count": 394,
     "metadata": {},
     "output_type": "execute_result"
    }
   ],
   "source": [
    "sum(tuple1)"
   ]
  },
  {
   "cell_type": "code",
   "execution_count": 396,
   "id": "049f569e-0c98-4392-afe5-20a9ee05570a",
   "metadata": {},
   "outputs": [],
   "source": [
    "nestedTuple = (1,2,(4,5),(6,7))"
   ]
  },
  {
   "cell_type": "code",
   "execution_count": 398,
   "id": "9b3ad7c0-14c4-4045-b343-77b08165f01e",
   "metadata": {},
   "outputs": [
    {
     "data": {
      "text/plain": [
       "(1, 2, (4, 5), (6, 7))"
      ]
     },
     "execution_count": 398,
     "metadata": {},
     "output_type": "execute_result"
    }
   ],
   "source": [
    "nestedTuple"
   ]
  },
  {
   "cell_type": "code",
   "execution_count": 400,
   "id": "dce20803-b2e1-48ea-b79c-83232ae4b089",
   "metadata": {},
   "outputs": [
    {
     "data": {
      "text/plain": [
       "4"
      ]
     },
     "execution_count": 400,
     "metadata": {},
     "output_type": "execute_result"
    }
   ],
   "source": [
    "len(nestedTuple)"
   ]
  },
  {
   "cell_type": "code",
   "execution_count": 402,
   "id": "2129fb7c-8dd1-4cad-8229-1d178182decf",
   "metadata": {},
   "outputs": [
    {
     "data": {
      "text/plain": [
       "5"
      ]
     },
     "execution_count": 402,
     "metadata": {},
     "output_type": "execute_result"
    }
   ],
   "source": [
    "nestedTuple[2][1]"
   ]
  },
  {
   "cell_type": "code",
   "execution_count": 404,
   "id": "876ac8c1-5e00-4472-9cdb-0be4ecafbe46",
   "metadata": {},
   "outputs": [
    {
     "data": {
      "text/plain": [
       "6"
      ]
     },
     "execution_count": 404,
     "metadata": {},
     "output_type": "execute_result"
    }
   ],
   "source": [
    "nestedTuple[3][0]"
   ]
  },
  {
   "cell_type": "code",
   "execution_count": 408,
   "id": "c4f5ec31-b89c-4387-818c-77d6085a35f9",
   "metadata": {},
   "outputs": [
    {
     "data": {
      "text/plain": [
       "9"
      ]
     },
     "execution_count": 408,
     "metadata": {},
     "output_type": "execute_result"
    }
   ],
   "source": [
    "sum(nestedTuple[2])"
   ]
  },
  {
   "cell_type": "code",
   "execution_count": 410,
   "id": "13c595d2-90d0-41de-bc97-97ed400bafff",
   "metadata": {},
   "outputs": [
    {
     "data": {
      "text/plain": [
       "13"
      ]
     },
     "execution_count": 410,
     "metadata": {},
     "output_type": "execute_result"
    }
   ],
   "source": [
    "sum(nestedTuple[3])"
   ]
  },
  {
   "cell_type": "markdown",
   "id": "ac36f35b-548a-4807-9e65-659919e485dc",
   "metadata": {},
   "source": [
    "### Dictionaries "
   ]
  },
  {
   "cell_type": "code",
   "execution_count": 435,
   "id": "6199b34f-9c62-4efe-9334-c8bd6d65435d",
   "metadata": {},
   "outputs": [],
   "source": [
    "jameel_info = {'name':'Jameel','age':26,'city':'Hyderabad','Experience':12}"
   ]
  },
  {
   "cell_type": "code",
   "execution_count": 437,
   "id": "cd7cf9c2-5997-4374-9e88-d5332cbe2840",
   "metadata": {},
   "outputs": [
    {
     "data": {
      "text/plain": [
       "{'name': 'Jameel', 'age': 26, 'city': 'Hyderabad', 'Experience': 12}"
      ]
     },
     "execution_count": 437,
     "metadata": {},
     "output_type": "execute_result"
    }
   ],
   "source": [
    "jameel_info"
   ]
  },
  {
   "cell_type": "code",
   "execution_count": 439,
   "id": "91e1faae-b139-4eb9-84c1-11923deee11d",
   "metadata": {},
   "outputs": [
    {
     "name": "stdout",
     "output_type": "stream",
     "text": [
      "{'name': 'Jameel', 'age': 26, 'city': 'Hyderabad', 'Experience': 12}\n"
     ]
    }
   ],
   "source": [
    "print(jameel_info)"
   ]
  },
  {
   "cell_type": "code",
   "execution_count": 443,
   "id": "a1509a8e-2a2f-4222-ac0d-ad279863a14f",
   "metadata": {},
   "outputs": [
    {
     "data": {
      "text/plain": [
       "dict_keys(['name', 'age', 'city', 'Experience'])"
      ]
     },
     "execution_count": 443,
     "metadata": {},
     "output_type": "execute_result"
    }
   ],
   "source": [
    "jameel_info.keys()"
   ]
  },
  {
   "cell_type": "code",
   "execution_count": 445,
   "id": "50272c35-3bc4-46ae-90ba-ae1d8f4be902",
   "metadata": {},
   "outputs": [
    {
     "data": {
      "text/plain": [
       "dict_values(['Jameel', 26, 'Hyderabad', 12])"
      ]
     },
     "execution_count": 445,
     "metadata": {},
     "output_type": "execute_result"
    }
   ],
   "source": [
    "jameel_info.values()"
   ]
  },
  {
   "cell_type": "code",
   "execution_count": 447,
   "id": "0c747afb-2342-4167-abb0-859ad092f833",
   "metadata": {},
   "outputs": [
    {
     "data": {
      "text/plain": [
       "'Jameel'"
      ]
     },
     "execution_count": 447,
     "metadata": {},
     "output_type": "execute_result"
    }
   ],
   "source": [
    "jameel_info['name']"
   ]
  },
  {
   "cell_type": "code",
   "execution_count": 449,
   "id": "7cc0bef5-9a3f-40fa-bb0f-462aeb993914",
   "metadata": {},
   "outputs": [
    {
     "data": {
      "text/plain": [
       "26"
      ]
     },
     "execution_count": 449,
     "metadata": {},
     "output_type": "execute_result"
    }
   ],
   "source": [
    "jameel_info['age']"
   ]
  },
  {
   "cell_type": "code",
   "execution_count": 451,
   "id": "8074ad06-3c5a-42ed-91ae-a928247e1d80",
   "metadata": {},
   "outputs": [
    {
     "name": "stdout",
     "output_type": "stream",
     "text": [
      "Hyderabad\n"
     ]
    }
   ],
   "source": [
    "print(jameel_info['city'])"
   ]
  },
  {
   "cell_type": "code",
   "execution_count": 453,
   "id": "e8689eec-bf73-4949-8325-5cddd4ae1e74",
   "metadata": {},
   "outputs": [
    {
     "data": {
      "text/plain": [
       "'Hyderabad'"
      ]
     },
     "execution_count": 453,
     "metadata": {},
     "output_type": "execute_result"
    }
   ],
   "source": [
    "jameel_info['city']"
   ]
  },
  {
   "cell_type": "code",
   "execution_count": 455,
   "id": "fde35221-debf-4e04-94d9-e97f90ef8819",
   "metadata": {},
   "outputs": [
    {
     "data": {
      "text/plain": [
       "12"
      ]
     },
     "execution_count": 455,
     "metadata": {},
     "output_type": "execute_result"
    }
   ],
   "source": [
    "jameel_info['Experience']"
   ]
  },
  {
   "cell_type": "code",
   "execution_count": null,
   "id": "c67db14b-f801-4745-8cc8-72da5441f377",
   "metadata": {},
   "outputs": [],
   "source": []
  }
 ],
 "metadata": {
  "kernelspec": {
   "display_name": "Python 3 (ipykernel)",
   "language": "python",
   "name": "python3"
  },
  "language_info": {
   "codemirror_mode": {
    "name": "ipython",
    "version": 3
   },
   "file_extension": ".py",
   "mimetype": "text/x-python",
   "name": "python",
   "nbconvert_exporter": "python",
   "pygments_lexer": "ipython3",
   "version": "3.12.4"
  }
 },
 "nbformat": 4,
 "nbformat_minor": 5
}
